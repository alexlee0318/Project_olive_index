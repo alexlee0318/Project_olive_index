{
 "cells": [
  {
   "cell_type": "code",
   "execution_count": 2,
   "metadata": {},
   "outputs": [],
   "source": [
    "import pandas as pd\n",
    "import numpy as np\n",
    "import platform\n",
    "import matplotlib.pyplot as plt"
   ]
  },
  {
   "cell_type": "code",
   "execution_count": 3,
   "metadata": {},
   "outputs": [],
   "source": [
    "%matplotlib inline"
   ]
  },
  {
   "cell_type": "code",
   "execution_count": 4,
   "metadata": {},
   "outputs": [],
   "source": [
    "from matplotlib import font_manager, rc # 한글 폰트 사용\n",
    "\n",
    "plt.rcParams[\"font.family\"] = \"malgun Gothic\"\n",
    "plt.rcParams['axes.unicode_minus'] = False"
   ]
  },
  {
   "cell_type": "code",
   "execution_count": null,
   "metadata": {},
   "outputs": [],
   "source": [
    "########## 지역인구 데이터 모두 불러와서 확인하기 ###########\n",
    "### 신혼부부 수 현황\n",
    "### 출생등록 현황\n",
    "### 아동/청소년/청년 인구 현황\n",
    "### 10세 연령구간별 인구 현황\n",
    "### 평균연령 현황"
   ]
  },
  {
   "cell_type": "code",
   "execution_count": null,
   "metadata": {},
   "outputs": [],
   "source": [
    "########## 데이터 전처리 계획 ###########\n",
    "# 1) 각 데이터 전처리\n",
    "### 신혼부부 수 현황 : 행정구역 행 하나로 합치기, 증감수 행 삭제, 행 이름 수정\n",
    "### 출생등록 현황 : 성별 행 삭제\n",
    "### 아동/청소년/청년 인구 현황 : 필요없는 데이터(미사용)\n",
    "### 10세 연령구간별 인구 현황 : 행 너무 많음. 과감히 삭제 및 concat 필요\n",
    "### 평균연령 현황 : 성별연령 행 삭제\n",
    "\n",
    "# 2) 전체 데이터 병합\n",
    "# 행정구역 정리\n",
    "# 결측치 확인"
   ]
  },
  {
   "cell_type": "code",
   "execution_count": 6,
   "metadata": {},
   "outputs": [
    {
     "data": {
      "text/html": [
       "<div>\n",
       "<style scoped>\n",
       "    .dataframe tbody tr th:only-of-type {\n",
       "        vertical-align: middle;\n",
       "    }\n",
       "\n",
       "    .dataframe tbody tr th {\n",
       "        vertical-align: top;\n",
       "    }\n",
       "\n",
       "    .dataframe thead th {\n",
       "        text-align: right;\n",
       "    }\n",
       "</style>\n",
       "<table border=\"1\" class=\"dataframe\">\n",
       "  <thead>\n",
       "    <tr style=\"text-align: right;\">\n",
       "      <th></th>\n",
       "      <th>행정구역</th>\n",
       "      <th>2023년05월_계_총인구수</th>\n",
       "      <th>2023년05월_계_연령구간인구수</th>\n",
       "      <th>2023년05월_계_0~9세</th>\n",
       "      <th>2023년05월_계_10~19세</th>\n",
       "      <th>2023년05월_계_20~29세</th>\n",
       "      <th>2023년05월_계_30~39세</th>\n",
       "      <th>2023년05월_계_40~49세</th>\n",
       "      <th>2023년05월_계_50~59세</th>\n",
       "      <th>2023년05월_계_60~69세</th>\n",
       "      <th>...</th>\n",
       "      <th>2023년05월_여_10~19세</th>\n",
       "      <th>2023년05월_여_20~29세</th>\n",
       "      <th>2023년05월_여_30~39세</th>\n",
       "      <th>2023년05월_여_40~49세</th>\n",
       "      <th>2023년05월_여_50~59세</th>\n",
       "      <th>2023년05월_여_60~69세</th>\n",
       "      <th>2023년05월_여_70~79세</th>\n",
       "      <th>2023년05월_여_80~89세</th>\n",
       "      <th>2023년05월_여_90~99세</th>\n",
       "      <th>2023년05월_여_100세 이상</th>\n",
       "    </tr>\n",
       "  </thead>\n",
       "  <tbody>\n",
       "    <tr>\n",
       "      <th>1277</th>\n",
       "      <td>세종특별자치시  대평동(3611057000)</td>\n",
       "      <td>11,224</td>\n",
       "      <td>11,224</td>\n",
       "      <td>1,491</td>\n",
       "      <td>1,173</td>\n",
       "      <td>1,219</td>\n",
       "      <td>1,980</td>\n",
       "      <td>2,075</td>\n",
       "      <td>1,780</td>\n",
       "      <td>1,050</td>\n",
       "      <td>...</td>\n",
       "      <td>575</td>\n",
       "      <td>588</td>\n",
       "      <td>1,033</td>\n",
       "      <td>1,045</td>\n",
       "      <td>935</td>\n",
       "      <td>524</td>\n",
       "      <td>152</td>\n",
       "      <td>92</td>\n",
       "      <td>23</td>\n",
       "      <td>0</td>\n",
       "    </tr>\n",
       "    <tr>\n",
       "      <th>1278</th>\n",
       "      <td>세종특별자치시  다정동(3611058000)</td>\n",
       "      <td>28,622</td>\n",
       "      <td>28,622</td>\n",
       "      <td>4,373</td>\n",
       "      <td>4,028</td>\n",
       "      <td>2,287</td>\n",
       "      <td>5,209</td>\n",
       "      <td>6,444</td>\n",
       "      <td>3,371</td>\n",
       "      <td>2,001</td>\n",
       "      <td>...</td>\n",
       "      <td>2,044</td>\n",
       "      <td>1,212</td>\n",
       "      <td>2,799</td>\n",
       "      <td>3,299</td>\n",
       "      <td>1,709</td>\n",
       "      <td>1,115</td>\n",
       "      <td>355</td>\n",
       "      <td>127</td>\n",
       "      <td>35</td>\n",
       "      <td>2</td>\n",
       "    </tr>\n",
       "    <tr>\n",
       "      <th>1279</th>\n",
       "      <td>경기도  (4100000000)</td>\n",
       "      <td>13,612,597</td>\n",
       "      <td>13,612,597</td>\n",
       "      <td>1,019,287</td>\n",
       "      <td>1,324,654</td>\n",
       "      <td>1,712,711</td>\n",
       "      <td>1,878,273</td>\n",
       "      <td>2,273,387</td>\n",
       "      <td>2,305,957</td>\n",
       "      <td>1,795,821</td>\n",
       "      <td>...</td>\n",
       "      <td>646,034</td>\n",
       "      <td>810,242</td>\n",
       "      <td>900,629</td>\n",
       "      <td>1,115,274</td>\n",
       "      <td>1,141,019</td>\n",
       "      <td>900,277</td>\n",
       "      <td>445,073</td>\n",
       "      <td>258,665</td>\n",
       "      <td>45,998</td>\n",
       "      <td>1,513</td>\n",
       "    </tr>\n",
       "  </tbody>\n",
       "</table>\n",
       "<p>3 rows × 40 columns</p>\n",
       "</div>"
      ],
      "text/plain": [
       "                          행정구역 2023년05월_계_총인구수 2023년05월_계_연령구간인구수   \n",
       "1277  세종특별자치시  대평동(3611057000)          11,224             11,224  \\\n",
       "1278  세종특별자치시  다정동(3611058000)          28,622             28,622   \n",
       "1279         경기도  (4100000000)      13,612,597         13,612,597   \n",
       "\n",
       "     2023년05월_계_0~9세 2023년05월_계_10~19세 2023년05월_계_20~29세 2023년05월_계_30~39세   \n",
       "1277           1,491             1,173             1,219             1,980  \\\n",
       "1278           4,373             4,028             2,287             5,209   \n",
       "1279       1,019,287         1,324,654         1,712,711         1,878,273   \n",
       "\n",
       "     2023년05월_계_40~49세 2023년05월_계_50~59세 2023년05월_계_60~69세  ...   \n",
       "1277             2,075             1,780             1,050  ...  \\\n",
       "1278             6,444             3,371             2,001  ...   \n",
       "1279         2,273,387         2,305,957         1,795,821  ...   \n",
       "\n",
       "     2023년05월_여_10~19세 2023년05월_여_20~29세 2023년05월_여_30~39세 2023년05월_여_40~49세   \n",
       "1277               575               588             1,033             1,045  \\\n",
       "1278             2,044             1,212             2,799             3,299   \n",
       "1279           646,034           810,242           900,629         1,115,274   \n",
       "\n",
       "     2023년05월_여_50~59세 2023년05월_여_60~69세 2023년05월_여_70~79세 2023년05월_여_80~89세   \n",
       "1277               935               524               152                92  \\\n",
       "1278             1,709             1,115               355               127   \n",
       "1279         1,141,019           900,277           445,073           258,665   \n",
       "\n",
       "     2023년05월_여_90~99세 2023년05월_여_100세 이상  \n",
       "1277                23                  0  \n",
       "1278                35                  2  \n",
       "1279            45,998              1,513  \n",
       "\n",
       "[3 rows x 40 columns]"
      ]
     },
     "execution_count": 6,
     "metadata": {},
     "output_type": "execute_result"
    }
   ],
   "source": [
    "# 10세 연령 구간별 인구\n",
    "df_age_10 = pd.read_csv('data/origin/202305_202305_연령별인구현황_월간_10세.csv',encoding='euc-kr', sep=',' )\n",
    "df_age_10.head(1280).tail(3)"
   ]
  },
  {
   "cell_type": "code",
   "execution_count": 7,
   "metadata": {},
   "outputs": [
    {
     "data": {
      "text/plain": [
       "(3877, 40)"
      ]
     },
     "execution_count": 7,
     "metadata": {},
     "output_type": "execute_result"
    }
   ],
   "source": [
    "df_age_10.shape"
   ]
  },
  {
   "cell_type": "code",
   "execution_count": 8,
   "metadata": {},
   "outputs": [
    {
     "data": {
      "text/html": [
       "<div>\n",
       "<style scoped>\n",
       "    .dataframe tbody tr th:only-of-type {\n",
       "        vertical-align: middle;\n",
       "    }\n",
       "\n",
       "    .dataframe tbody tr th {\n",
       "        vertical-align: top;\n",
       "    }\n",
       "\n",
       "    .dataframe thead th {\n",
       "        text-align: right;\n",
       "    }\n",
       "</style>\n",
       "<table border=\"1\" class=\"dataframe\">\n",
       "  <thead>\n",
       "    <tr style=\"text-align: right;\">\n",
       "      <th></th>\n",
       "      <th>행정구역</th>\n",
       "      <th>2023년05월_남자 평균연령</th>\n",
       "      <th>2023년05월_여자 평균연령</th>\n",
       "      <th>2023년05월_평균연령</th>\n",
       "    </tr>\n",
       "  </thead>\n",
       "  <tbody>\n",
       "    <tr>\n",
       "      <th>0</th>\n",
       "      <td>전국  (1000000000)</td>\n",
       "      <td>43.3</td>\n",
       "      <td>45.6</td>\n",
       "      <td>44.5</td>\n",
       "    </tr>\n",
       "    <tr>\n",
       "      <th>1</th>\n",
       "      <td>서울특별시  (1100000000)</td>\n",
       "      <td>43.4</td>\n",
       "      <td>44.9</td>\n",
       "      <td>44.2</td>\n",
       "    </tr>\n",
       "    <tr>\n",
       "      <th>2</th>\n",
       "      <td>서울특별시 종로구 (1111000000)</td>\n",
       "      <td>45.3</td>\n",
       "      <td>46.3</td>\n",
       "      <td>45.8</td>\n",
       "    </tr>\n",
       "    <tr>\n",
       "      <th>3</th>\n",
       "      <td>서울특별시 종로구 청운효자동(1111051500)</td>\n",
       "      <td>43.3</td>\n",
       "      <td>46.0</td>\n",
       "      <td>44.7</td>\n",
       "    </tr>\n",
       "    <tr>\n",
       "      <th>4</th>\n",
       "      <td>서울특별시 종로구 사직동(1111053000)</td>\n",
       "      <td>45.7</td>\n",
       "      <td>46.2</td>\n",
       "      <td>46.0</td>\n",
       "    </tr>\n",
       "  </tbody>\n",
       "</table>\n",
       "</div>"
      ],
      "text/plain": [
       "                          행정구역  2023년05월_남자 평균연령  2023년05월_여자 평균연령   \n",
       "0             전국  (1000000000)              43.3              45.6  \\\n",
       "1          서울특별시  (1100000000)              43.4              44.9   \n",
       "2       서울특별시 종로구 (1111000000)              45.3              46.3   \n",
       "3  서울특별시 종로구 청운효자동(1111051500)              43.3              46.0   \n",
       "4    서울특별시 종로구 사직동(1111053000)              45.7              46.2   \n",
       "\n",
       "   2023년05월_평균연령  \n",
       "0           44.5  \n",
       "1           44.2  \n",
       "2           45.8  \n",
       "3           44.7  \n",
       "4           46.0  "
      ]
     },
     "execution_count": 8,
     "metadata": {},
     "output_type": "execute_result"
    }
   ],
   "source": [
    "df_age_aver = pd.read_csv('data/origin/202305_202305_주민등록인구기타현황(평균연령)_avgAge.csv', encoding='euc-kr', sep=',')\n",
    "df_age_aver.head()"
   ]
  },
  {
   "cell_type": "code",
   "execution_count": 9,
   "metadata": {},
   "outputs": [
    {
     "data": {
      "text/plain": [
       "((3861, 4), 0)"
      ]
     },
     "execution_count": 9,
     "metadata": {},
     "output_type": "execute_result"
    }
   ],
   "source": [
    "df_age_aver.shape, df_age_aver.isna().sum().sum()"
   ]
  },
  {
   "cell_type": "code",
   "execution_count": 11,
   "metadata": {},
   "outputs": [],
   "source": [
    "############## age_10과 age_aver 데이터 합치기(merge) ##############\n",
    "# 공통인 행정구역을 기준으로\n",
    "df_ages = df_age_10.merge(df_age_aver, on = '행정구역', how='outer')\n",
    "df_ages.to_csv('data/tmp/전체연령.csv', index=False)"
   ]
  },
  {
   "cell_type": "code",
   "execution_count": 12,
   "metadata": {},
   "outputs": [],
   "source": [
    "df_ages = pd.read_csv('data/tmp/전체연령.csv', encoding='utf-8', sep=',')"
   ]
  },
  {
   "cell_type": "code",
   "execution_count": 22,
   "metadata": {},
   "outputs": [
    {
     "data": {
      "text/plain": [
       "(3878, 14)"
      ]
     },
     "execution_count": 22,
     "metadata": {},
     "output_type": "execute_result"
    }
   ],
   "source": [
    "df_ages.shape   # 3877 -> 3878 로 1개 행 증가함"
   ]
  },
  {
   "cell_type": "code",
   "execution_count": 13,
   "metadata": {},
   "outputs": [
    {
     "data": {
      "text/plain": [
       "Index(['행정구역', '2023년05월_계_총인구수', '2023년05월_계_연령구간인구수', '2023년05월_계_0~9세',\n",
       "       '2023년05월_계_10~19세', '2023년05월_계_20~29세', '2023년05월_계_30~39세',\n",
       "       '2023년05월_계_40~49세', '2023년05월_계_50~59세', '2023년05월_계_60~69세',\n",
       "       '2023년05월_계_70~79세', '2023년05월_계_80~89세', '2023년05월_계_90~99세',\n",
       "       '2023년05월_계_100세 이상', '2023년05월_남_총인구수', '2023년05월_남_연령구간인구수',\n",
       "       '2023년05월_남_0~9세', '2023년05월_남_10~19세', '2023년05월_남_20~29세',\n",
       "       '2023년05월_남_30~39세', '2023년05월_남_40~49세', '2023년05월_남_50~59세',\n",
       "       '2023년05월_남_60~69세', '2023년05월_남_70~79세', '2023년05월_남_80~89세',\n",
       "       '2023년05월_남_90~99세', '2023년05월_남_100세 이상', '2023년05월_여_총인구수',\n",
       "       '2023년05월_여_연령구간인구수', '2023년05월_여_0~9세', '2023년05월_여_10~19세',\n",
       "       '2023년05월_여_20~29세', '2023년05월_여_30~39세', '2023년05월_여_40~49세',\n",
       "       '2023년05월_여_50~59세', '2023년05월_여_60~69세', '2023년05월_여_70~79세',\n",
       "       '2023년05월_여_80~89세', '2023년05월_여_90~99세', '2023년05월_여_100세 이상',\n",
       "       '2023년05월_남자 평균연령', '2023년05월_여자 평균연령', '2023년05월_평균연령'],\n",
       "      dtype='object')"
      ]
     },
     "execution_count": 13,
     "metadata": {},
     "output_type": "execute_result"
    }
   ],
   "source": [
    "df_ages.columns"
   ]
  },
  {
   "cell_type": "code",
   "execution_count": 14,
   "metadata": {},
   "outputs": [
    {
     "data": {
      "text/plain": [
       "pandas.core.indexes.base.Index"
      ]
     },
     "execution_count": 14,
     "metadata": {},
     "output_type": "execute_result"
    }
   ],
   "source": [
    "# str(df_ages.columns[12][9])\n",
    "type(df_ages.columns)"
   ]
  },
  {
   "cell_type": "code",
   "execution_count": 15,
   "metadata": {},
   "outputs": [
    {
     "data": {
      "text/plain": [
       "('남', '_여_', 43)"
      ]
     },
     "execution_count": 15,
     "metadata": {},
     "output_type": "execute_result"
    }
   ],
   "source": [
    "df_ages.columns[18][9], df_ages.columns[30][8:11], len(df_ages.columns)"
   ]
  },
  {
   "cell_type": "code",
   "execution_count": 16,
   "metadata": {},
   "outputs": [
    {
     "name": "stdout",
     "output_type": "stream",
     "text": [
      "행정구역__보존0\n",
      "2023년05월_계_총인구수__보존1\n",
      "2023년05월_계_0~9세__보존3\n",
      "2023년05월_계_10~19세__보존4\n",
      "2023년05월_계_20~29세__보존5\n",
      "2023년05월_계_30~39세__보존6\n",
      "2023년05월_계_40~49세__보존7\n",
      "2023년05월_계_50~59세__보존8\n",
      "2023년05월_계_60~69세__보존9\n",
      "2023년05월_계_70~79세__보존10\n",
      "2023년05월_계_80~89세__보존11\n",
      "2023년05월_계_90~99세__보존12\n",
      "2023년05월_계_100세 이상__보존13\n",
      "2023년05월_평균연령__보존42\n"
     ]
    }
   ],
   "source": [
    "### 삭제 반복문 ###\n",
    "# '세'로 끝나면서 '계'가 아닌 것들 삭제\n",
    "# 남/여 연령구간인구수-> 총인구수와 중복됨-> 삭제하기 \n",
    "# 여/남 평균연령(성별들어간 행 삭제)\n",
    "# 삭제된 행은 print로 확인 \n",
    "\n",
    "cols = df_ages.columns\n",
    "col_list= []\n",
    "for i in range(int(len(cols))):     # int로 안하면 index range에러 뜸\n",
    "    if (str(cols[i][-1]) == '상' and str(cols[i][9]) != '계'):\n",
    "        df_ages.drop(labels=cols[i], inplace=True, axis=1)\n",
    "        # print(f'{i}삭제__{cols[i]}')\n",
    "    elif (str(cols[i][-1]) == '세' and str(cols[i][9]) != '계'):\n",
    "        df_ages.drop(labels=cols[i], inplace=True, axis=1)\n",
    "        # print(f'{i}삭제__{cols[i]}')\n",
    "    elif (str(cols[i][10:12]) == '_연'):\n",
    "        df_ages.drop(labels=cols[i], inplace=True, axis=1)\n",
    "        # print(f'{i}삭제__{cols[i]}')\n",
    "    elif (str(cols[i][8:10]) == '_남'):\n",
    "        df_ages.drop(labels=cols[i], inplace=True, axis=1)\n",
    "        # print(f'{i}삭제__{cols[i]}')\n",
    "    elif (str(cols[i][8:10]) == '_여'):\n",
    "        df_ages.drop(labels=cols[i], inplace=True, axis=1)\n",
    "        # print(f'{i}삭제__{cols[i]}')\n",
    "    else:\n",
    "        print(f'{cols[i]}__보존{i}')\n",
    "        col_list.append(cols[i].strip().split('_')[-1])  # 행이름에서 추출할 부분만"
   ]
  },
  {
   "cell_type": "code",
   "execution_count": 21,
   "metadata": {},
   "outputs": [
    {
     "data": {
      "text/plain": [
       "(Index(['행정구역', '총인구수', '0~9세', '10~19세', '20~29세', '30~39세', '40~49세',\n",
       "        '50~59세', '60~69세', '70~79세', '80~89세', '90~99세', '100세 이상', '평균연령'],\n",
       "       dtype='object'),\n",
       " 14)"
      ]
     },
     "execution_count": 21,
     "metadata": {},
     "output_type": "execute_result"
    }
   ],
   "source": [
    "df_ages.columns = col_list\n",
    "df_ages.columns, len(df_ages.columns)"
   ]
  },
  {
   "cell_type": "code",
   "execution_count": 26,
   "metadata": {},
   "outputs": [
    {
     "data": {
      "text/plain": [
       "행정구역        0\n",
       "총인구수        1\n",
       "0~9세        1\n",
       "10~19세      1\n",
       "20~29세      1\n",
       "30~39세      1\n",
       "40~49세      1\n",
       "50~59세      1\n",
       "60~69세      1\n",
       "70~79세      1\n",
       "80~89세      1\n",
       "90~99세      1\n",
       "100세 이상     1\n",
       "평균연령       17\n",
       "dtype: int64"
      ]
     },
     "execution_count": 26,
     "metadata": {},
     "output_type": "execute_result"
    }
   ],
   "source": [
    "df_ages.isna().sum()"
   ]
  },
  {
   "cell_type": "code",
   "execution_count": 28,
   "metadata": {},
   "outputs": [
    {
     "data": {
      "text/plain": [
       "행정구역       전국  (1000000000)\n",
       "총인구수                    NaN\n",
       "0~9세                    NaN\n",
       "10~19세                  NaN\n",
       "20~29세                  NaN\n",
       "30~39세                  NaN\n",
       "40~49세                  NaN\n",
       "50~59세                  NaN\n",
       "60~69세                  NaN\n",
       "70~79세                  NaN\n",
       "80~89세                  NaN\n",
       "90~99세                  NaN\n",
       "100세 이상                 NaN\n",
       "평균연령                   44.5\n",
       "Name: 3877, dtype: object"
      ]
     },
     "execution_count": 28,
     "metadata": {},
     "output_type": "execute_result"
    }
   ],
   "source": [
    "df_ages.iloc[3877]      # 행정구역-전국이 있음 -> 일단 킵"
   ]
  },
  {
   "cell_type": "code",
   "execution_count": 30,
   "metadata": {},
   "outputs": [],
   "source": [
    "df_ages.to_csv('data/tmp/전체연령2.csv', index=False)"
   ]
  },
  {
   "cell_type": "code",
   "execution_count": 10,
   "metadata": {},
   "outputs": [
    {
     "data": {
      "text/html": [
       "<div>\n",
       "<style scoped>\n",
       "    .dataframe tbody tr th:only-of-type {\n",
       "        vertical-align: middle;\n",
       "    }\n",
       "\n",
       "    .dataframe tbody tr th {\n",
       "        vertical-align: top;\n",
       "    }\n",
       "\n",
       "    .dataframe thead th {\n",
       "        text-align: right;\n",
       "    }\n",
       "</style>\n",
       "<table border=\"1\" class=\"dataframe\">\n",
       "  <thead>\n",
       "    <tr style=\"text-align: right;\">\n",
       "      <th></th>\n",
       "      <th>행정구역</th>\n",
       "      <th>총인구수</th>\n",
       "      <th>0~9세</th>\n",
       "      <th>10~19세</th>\n",
       "      <th>20~29세</th>\n",
       "      <th>30~39세</th>\n",
       "      <th>40~49세</th>\n",
       "      <th>50~59세</th>\n",
       "      <th>60~69세</th>\n",
       "      <th>70~79세</th>\n",
       "      <th>80~89세</th>\n",
       "      <th>90~99세</th>\n",
       "      <th>100세 이상</th>\n",
       "      <th>평균연령</th>\n",
       "    </tr>\n",
       "  </thead>\n",
       "  <tbody>\n",
       "    <tr>\n",
       "      <th>0</th>\n",
       "      <td>서울특별시  (1100000000)</td>\n",
       "      <td>9,418,885</td>\n",
       "      <td>530,837</td>\n",
       "      <td>744,507</td>\n",
       "      <td>1,379,056</td>\n",
       "      <td>1,425,785</td>\n",
       "      <td>1,435,754</td>\n",
       "      <td>1,490,647</td>\n",
       "      <td>1,311,328</td>\n",
       "      <td>723,982</td>\n",
       "      <td>331,600</td>\n",
       "      <td>43,937</td>\n",
       "      <td>1,452</td>\n",
       "      <td>44.2</td>\n",
       "    </tr>\n",
       "    <tr>\n",
       "      <th>1</th>\n",
       "      <td>서울특별시 종로구 (1111000000)</td>\n",
       "      <td>140,601</td>\n",
       "      <td>6,125</td>\n",
       "      <td>10,069</td>\n",
       "      <td>21,929</td>\n",
       "      <td>19,345</td>\n",
       "      <td>19,563</td>\n",
       "      <td>24,007</td>\n",
       "      <td>20,542</td>\n",
       "      <td>11,443</td>\n",
       "      <td>6,609</td>\n",
       "      <td>935</td>\n",
       "      <td>34</td>\n",
       "      <td>45.8</td>\n",
       "    </tr>\n",
       "  </tbody>\n",
       "</table>\n",
       "</div>"
      ],
      "text/plain": [
       "                     행정구역       총인구수     0~9세   10~19세     20~29세     30~39세   \n",
       "0     서울특별시  (1100000000)  9,418,885  530,837  744,507  1,379,056  1,425,785  \\\n",
       "1  서울특별시 종로구 (1111000000)    140,601    6,125   10,069     21,929     19,345   \n",
       "\n",
       "      40~49세     50~59세     60~69세   70~79세   80~89세  90~99세 100세 이상  평균연령  \n",
       "0  1,435,754  1,490,647  1,311,328  723,982  331,600  43,937   1,452  44.2  \n",
       "1     19,563     24,007     20,542   11,443    6,609     935      34  45.8  "
      ]
     },
     "execution_count": 10,
     "metadata": {},
     "output_type": "execute_result"
    }
   ],
   "source": [
    "df_ages = pd.read_csv('data/tmp/전체연령2.csv',encoding='utf-8', sep=',')\n",
    "df_ages.head(2)"
   ]
  },
  {
   "cell_type": "code",
   "execution_count": null,
   "metadata": {},
   "outputs": [],
   "source": [
    "# ###### 축약버전 (미완) ####\n",
    "# cols = df_ages.columns\n",
    "# for i in range(1, 44):\n",
    "#     if (str(cols[i][9]) != '계' and (str(cols[i][-1]) == '상' or str(cols[i][-1]) == '세')):\n",
    "#         df_ages.drop(labels=cols[i], inplace=True, axis=1)\n",
    "#     elif (str(cols[i][10:12]) == '_연') or (str(cols[i][8:10]) == '_남') or (str(cols[i][8:10]) == '_여'):\n",
    "#         df_ages.drop(labels=cols[i], inplace=True, axis=1)\n",
    "#     else:\n",
    "#         print(f'{cols[i]}____{i}')"
   ]
  },
  {
   "cell_type": "code",
   "execution_count": 14,
   "metadata": {},
   "outputs": [
    {
     "data": {
      "text/html": [
       "<div>\n",
       "<style scoped>\n",
       "    .dataframe tbody tr th:only-of-type {\n",
       "        vertical-align: middle;\n",
       "    }\n",
       "\n",
       "    .dataframe tbody tr th {\n",
       "        vertical-align: top;\n",
       "    }\n",
       "\n",
       "    .dataframe thead th {\n",
       "        text-align: right;\n",
       "    }\n",
       "</style>\n",
       "<table border=\"1\" class=\"dataframe\">\n",
       "  <thead>\n",
       "    <tr style=\"text-align: right;\">\n",
       "      <th></th>\n",
       "      <th>행정구역</th>\n",
       "      <th>2023년05월_남자인구수</th>\n",
       "      <th>2023년05월_여자인구수</th>\n",
       "      <th>2023년05월_계</th>\n",
       "    </tr>\n",
       "  </thead>\n",
       "  <tbody>\n",
       "    <tr>\n",
       "      <th>1278</th>\n",
       "      <td>세종특별자치시  대평동(3611057000)</td>\n",
       "      <td>1</td>\n",
       "      <td>4</td>\n",
       "      <td>5</td>\n",
       "    </tr>\n",
       "    <tr>\n",
       "      <th>1279</th>\n",
       "      <td>세종특별자치시  다정동(3611058000)</td>\n",
       "      <td>15</td>\n",
       "      <td>10</td>\n",
       "      <td>25</td>\n",
       "    </tr>\n",
       "    <tr>\n",
       "      <th>1280</th>\n",
       "      <td>경기도  (4100000000)</td>\n",
       "      <td>3,189</td>\n",
       "      <td>2,988</td>\n",
       "      <td>6,177</td>\n",
       "    </tr>\n",
       "    <tr>\n",
       "      <th>1281</th>\n",
       "      <td>경기도 수원시 (4111000000)</td>\n",
       "      <td>246</td>\n",
       "      <td>270</td>\n",
       "      <td>516</td>\n",
       "    </tr>\n",
       "    <tr>\n",
       "      <th>1282</th>\n",
       "      <td>경기도 수원시 장안구 (4111100000)</td>\n",
       "      <td>37</td>\n",
       "      <td>41</td>\n",
       "      <td>78</td>\n",
       "    </tr>\n",
       "  </tbody>\n",
       "</table>\n",
       "</div>"
      ],
      "text/plain": [
       "                          행정구역 2023년05월_남자인구수 2023년05월_여자인구수 2023년05월_계\n",
       "1278  세종특별자치시  대평동(3611057000)              1              4          5\n",
       "1279  세종특별자치시  다정동(3611058000)             15             10         25\n",
       "1280         경기도  (4100000000)          3,189          2,988      6,177\n",
       "1281      경기도 수원시 (4111000000)            246            270        516\n",
       "1282  경기도 수원시 장안구 (4111100000)             37             41         78"
      ]
     },
     "execution_count": 14,
     "metadata": {},
     "output_type": "execute_result"
    }
   ],
   "source": [
    "# 출생등록 현황#####################\n",
    "df_birth = pd.read_csv('data/origin/202305_202305_주민등록인구기타현황(출생등록)_birth.csv', encoding='euc-kr', sep=',')\n",
    "df_birth.head(1283).tail()"
   ]
  },
  {
   "cell_type": "code",
   "execution_count": 15,
   "metadata": {},
   "outputs": [],
   "source": [
    "# 성별 제외\n",
    "df_birth = df_birth[['행정구역', '2023년05월_계']]\n",
    "df_birth.rename(columns = {'2023년05월_계':'출생인구'}, inplace=True)     # df.columns = ['col', 'col', 'col', ''...]"
   ]
  },
  {
   "cell_type": "code",
   "execution_count": 16,
   "metadata": {},
   "outputs": [],
   "source": [
    "# 성별제외ver 저장 \n",
    "df_birth.to_csv('data/tmp/출생등록.csv', index=False)"
   ]
  },
  {
   "cell_type": "code",
   "execution_count": 29,
   "metadata": {},
   "outputs": [
    {
     "data": {
      "text/html": [
       "<div>\n",
       "<style scoped>\n",
       "    .dataframe tbody tr th:only-of-type {\n",
       "        vertical-align: middle;\n",
       "    }\n",
       "\n",
       "    .dataframe tbody tr th {\n",
       "        vertical-align: top;\n",
       "    }\n",
       "\n",
       "    .dataframe thead th {\n",
       "        text-align: right;\n",
       "    }\n",
       "</style>\n",
       "<table border=\"1\" class=\"dataframe\">\n",
       "  <thead>\n",
       "    <tr style=\"text-align: right;\">\n",
       "      <th></th>\n",
       "      <th>행정구역</th>\n",
       "      <th>출생인구</th>\n",
       "    </tr>\n",
       "  </thead>\n",
       "  <tbody>\n",
       "    <tr>\n",
       "      <th>0</th>\n",
       "      <td>전국  (1000000000)</td>\n",
       "      <td>20,397</td>\n",
       "    </tr>\n",
       "    <tr>\n",
       "      <th>1</th>\n",
       "      <td>서울특별시  (1100000000)</td>\n",
       "      <td>3,520</td>\n",
       "    </tr>\n",
       "  </tbody>\n",
       "</table>\n",
       "</div>"
      ],
      "text/plain": [
       "                  행정구역    출생인구\n",
       "0     전국  (1000000000)  20,397\n",
       "1  서울특별시  (1100000000)   3,520"
      ]
     },
     "execution_count": 29,
     "metadata": {},
     "output_type": "execute_result"
    }
   ],
   "source": [
    "# 데이터 확인\n",
    "df_b = pd.read_csv('data/tmp/출생등록.csv', encoding='utf-8', sep=',')\n",
    "df_b.head(2)"
   ]
  },
  {
   "cell_type": "code",
   "execution_count": 11,
   "metadata": {},
   "outputs": [
    {
     "data": {
      "text/plain": [
       "((3876, 2), (3878, 14))"
      ]
     },
     "execution_count": 11,
     "metadata": {},
     "output_type": "execute_result"
    }
   ],
   "source": [
    "df_b.shape, df_ages.shape"
   ]
  },
  {
   "cell_type": "code",
   "execution_count": 30,
   "metadata": {},
   "outputs": [
    {
     "data": {
      "text/html": [
       "<div>\n",
       "<style scoped>\n",
       "    .dataframe tbody tr th:only-of-type {\n",
       "        vertical-align: middle;\n",
       "    }\n",
       "\n",
       "    .dataframe tbody tr th {\n",
       "        vertical-align: top;\n",
       "    }\n",
       "\n",
       "    .dataframe thead th {\n",
       "        text-align: right;\n",
       "    }\n",
       "</style>\n",
       "<table border=\"1\" class=\"dataframe\">\n",
       "  <thead>\n",
       "    <tr style=\"text-align: right;\">\n",
       "      <th></th>\n",
       "      <th>행정구역</th>\n",
       "      <th>총인구수</th>\n",
       "      <th>0~9세</th>\n",
       "      <th>10~19세</th>\n",
       "      <th>20~29세</th>\n",
       "      <th>30~39세</th>\n",
       "      <th>40~49세</th>\n",
       "      <th>50~59세</th>\n",
       "      <th>60~69세</th>\n",
       "      <th>70~79세</th>\n",
       "      <th>80~89세</th>\n",
       "      <th>90~99세</th>\n",
       "      <th>100세 이상</th>\n",
       "      <th>평균연령</th>\n",
       "      <th>출생인구</th>\n",
       "    </tr>\n",
       "  </thead>\n",
       "  <tbody>\n",
       "    <tr>\n",
       "      <th>2995</th>\n",
       "      <td>전라남도 강진군 신전면(4681035000)</td>\n",
       "      <td>1,686</td>\n",
       "      <td>43</td>\n",
       "      <td>80</td>\n",
       "      <td>65</td>\n",
       "      <td>58</td>\n",
       "      <td>142</td>\n",
       "      <td>249</td>\n",
       "      <td>413</td>\n",
       "      <td>326</td>\n",
       "      <td>273</td>\n",
       "      <td>36</td>\n",
       "      <td>1</td>\n",
       "      <td>61.0</td>\n",
       "      <td>1</td>\n",
       "    </tr>\n",
       "    <tr>\n",
       "      <th>2996</th>\n",
       "      <td>전라남도 강진군 성전면(4681036000)</td>\n",
       "      <td>2,656</td>\n",
       "      <td>55</td>\n",
       "      <td>112</td>\n",
       "      <td>146</td>\n",
       "      <td>142</td>\n",
       "      <td>199</td>\n",
       "      <td>419</td>\n",
       "      <td>638</td>\n",
       "      <td>486</td>\n",
       "      <td>397</td>\n",
       "      <td>62</td>\n",
       "      <td>0</td>\n",
       "      <td>60.1</td>\n",
       "      <td>2</td>\n",
       "    </tr>\n",
       "    <tr>\n",
       "      <th>2997</th>\n",
       "      <td>전라남도 강진군 작천면(4681037000)</td>\n",
       "      <td>1,797</td>\n",
       "      <td>43</td>\n",
       "      <td>63</td>\n",
       "      <td>100</td>\n",
       "      <td>80</td>\n",
       "      <td>125</td>\n",
       "      <td>276</td>\n",
       "      <td>408</td>\n",
       "      <td>322</td>\n",
       "      <td>318</td>\n",
       "      <td>61</td>\n",
       "      <td>1</td>\n",
       "      <td>61.4</td>\n",
       "      <td>3</td>\n",
       "    </tr>\n",
       "    <tr>\n",
       "      <th>2998</th>\n",
       "      <td>전라남도 강진군 병영면(4681038000)</td>\n",
       "      <td>1,540</td>\n",
       "      <td>34</td>\n",
       "      <td>67</td>\n",
       "      <td>84</td>\n",
       "      <td>60</td>\n",
       "      <td>121</td>\n",
       "      <td>271</td>\n",
       "      <td>336</td>\n",
       "      <td>270</td>\n",
       "      <td>246</td>\n",
       "      <td>48</td>\n",
       "      <td>3</td>\n",
       "      <td>60.6</td>\n",
       "      <td>0</td>\n",
       "    </tr>\n",
       "    <tr>\n",
       "      <th>2999</th>\n",
       "      <td>전라남도 강진군 옴천면(4681039000)</td>\n",
       "      <td>602</td>\n",
       "      <td>12</td>\n",
       "      <td>40</td>\n",
       "      <td>37</td>\n",
       "      <td>20</td>\n",
       "      <td>45</td>\n",
       "      <td>87</td>\n",
       "      <td>110</td>\n",
       "      <td>120</td>\n",
       "      <td>109</td>\n",
       "      <td>22</td>\n",
       "      <td>0</td>\n",
       "      <td>60.8</td>\n",
       "      <td>0</td>\n",
       "    </tr>\n",
       "  </tbody>\n",
       "</table>\n",
       "</div>"
      ],
      "text/plain": [
       "                          행정구역   총인구수 0~9세 10~19세 20~29세 30~39세 40~49세 50~59세   \n",
       "2995  전라남도 강진군 신전면(4681035000)  1,686   43     80     65     58    142    249  \\\n",
       "2996  전라남도 강진군 성전면(4681036000)  2,656   55    112    146    142    199    419   \n",
       "2997  전라남도 강진군 작천면(4681037000)  1,797   43     63    100     80    125    276   \n",
       "2998  전라남도 강진군 병영면(4681038000)  1,540   34     67     84     60    121    271   \n",
       "2999  전라남도 강진군 옴천면(4681039000)    602   12     40     37     20     45     87   \n",
       "\n",
       "     60~69세 70~79세 80~89세 90~99세 100세 이상  평균연령 출생인구  \n",
       "2995    413    326    273     36       1  61.0    1  \n",
       "2996    638    486    397     62       0  60.1    2  \n",
       "2997    408    322    318     61       1  61.4    3  \n",
       "2998    336    270    246     48       3  60.6    0  \n",
       "2999    110    120    109     22       0  60.8    0  "
      ]
     },
     "execution_count": 30,
     "metadata": {},
     "output_type": "execute_result"
    }
   ],
   "source": [
    "############## 출생인구df + 연령별인구df 합치기(merge) ##############\n",
    "# 공통인 행정구역을 기준으로\n",
    "df_ages_birth = df_ages.merge(df_b, on = '행정구역', how='outer')\n",
    "df_ages_birth.columns   # 출생인구 행 잘 들어감\n",
    "\n",
    "df_ages_birth.head(3000).tail()"
   ]
  },
  {
   "cell_type": "code",
   "execution_count": 31,
   "metadata": {},
   "outputs": [
    {
     "data": {
      "text/plain": [
       "(Index(['행정구역', '총인구수', '0~9세', '10~19세', '20~29세', '30~39세', '40~49세',\n",
       "        '50~59세', '60~69세', '70~79세', '80~89세', '90~99세', '100세 이상', '평균연령',\n",
       "        '출생인구'],\n",
       "       dtype='object'),\n",
       " (3878, 15))"
      ]
     },
     "execution_count": 31,
     "metadata": {},
     "output_type": "execute_result"
    }
   ],
   "source": [
    "############## 출생인구df + 연령별인구df merge ##############\n",
    "# merge \n",
    "df_ages_birth =  pd.merge(df_ages, df_b, on = '행정구역', how='outer')    # how='outer'을 써야 손실없이 병합됨.\n",
    "df_ages_birth.columns, df_ages_birth.shape    # 3878 -> 3878 변화없음"
   ]
  },
  {
   "cell_type": "code",
   "execution_count": 39,
   "metadata": {},
   "outputs": [
    {
     "data": {
      "text/plain": [
       "(3878, 15)"
      ]
     },
     "execution_count": 39,
     "metadata": {},
     "output_type": "execute_result"
    }
   ],
   "source": [
    "df_ages_birth.shape     # 3878 -> 3878 변화없음"
   ]
  },
  {
   "cell_type": "code",
   "execution_count": 43,
   "metadata": {},
   "outputs": [
    {
     "data": {
      "text/plain": [
       "행정구역        0\n",
       "총인구수        1\n",
       "0~9세        1\n",
       "10~19세      1\n",
       "20~29세      1\n",
       "30~39세      1\n",
       "40~49세      1\n",
       "50~59세      1\n",
       "60~69세      1\n",
       "70~79세      1\n",
       "80~89세      1\n",
       "90~99세      1\n",
       "100세 이상     1\n",
       "평균연령       17\n",
       "출생인구        2\n",
       "dtype: int64"
      ]
     },
     "execution_count": 43,
     "metadata": {},
     "output_type": "execute_result"
    }
   ],
   "source": [
    "df_ages_birth.isna().sum()  # 아까 전국 데이터 결측치 그대로. 변화x"
   ]
  },
  {
   "cell_type": "code",
   "execution_count": 32,
   "metadata": {},
   "outputs": [],
   "source": [
    "########## 전체연령+출생인구 파일 저장(merge) ###########\n",
    "df_ages_birth.to_csv('data/tmp/전체연령_출생인구.csv', index=False)"
   ]
  },
  {
   "cell_type": "code",
   "execution_count": 5,
   "metadata": {},
   "outputs": [
    {
     "data": {
      "text/html": [
       "<div>\n",
       "<style scoped>\n",
       "    .dataframe tbody tr th:only-of-type {\n",
       "        vertical-align: middle;\n",
       "    }\n",
       "\n",
       "    .dataframe tbody tr th {\n",
       "        vertical-align: top;\n",
       "    }\n",
       "\n",
       "    .dataframe thead th {\n",
       "        text-align: right;\n",
       "    }\n",
       "</style>\n",
       "<table border=\"1\" class=\"dataframe\">\n",
       "  <thead>\n",
       "    <tr style=\"text-align: right;\">\n",
       "      <th></th>\n",
       "      <th>행정구역별(1)</th>\n",
       "      <th>행정구역별(2)</th>\n",
       "      <th>2017</th>\n",
       "      <th>2017.1</th>\n",
       "      <th>2017.2</th>\n",
       "      <th>2018</th>\n",
       "      <th>2018.1</th>\n",
       "      <th>2018.2</th>\n",
       "      <th>2019</th>\n",
       "      <th>2019.1</th>\n",
       "      <th>2019.2</th>\n",
       "      <th>2020</th>\n",
       "      <th>2020.1</th>\n",
       "      <th>2020.2</th>\n",
       "      <th>2021</th>\n",
       "      <th>2021.1</th>\n",
       "      <th>2021.2</th>\n",
       "    </tr>\n",
       "  </thead>\n",
       "  <tbody>\n",
       "    <tr>\n",
       "      <th>278</th>\n",
       "      <td>제주특별자치도</td>\n",
       "      <td>제주시</td>\n",
       "      <td>10383</td>\n",
       "      <td>-172</td>\n",
       "      <td>-1.6</td>\n",
       "      <td>10125</td>\n",
       "      <td>-258</td>\n",
       "      <td>-2.5</td>\n",
       "      <td>9635</td>\n",
       "      <td>-490</td>\n",
       "      <td>-4.8</td>\n",
       "      <td>9260</td>\n",
       "      <td>-375</td>\n",
       "      <td>-3.9</td>\n",
       "      <td>8648</td>\n",
       "      <td>-612</td>\n",
       "      <td>-6.6</td>\n",
       "    </tr>\n",
       "    <tr>\n",
       "      <th>279</th>\n",
       "      <td>제주특별자치도</td>\n",
       "      <td>서귀포시</td>\n",
       "      <td>3170</td>\n",
       "      <td>162</td>\n",
       "      <td>5.4</td>\n",
       "      <td>3156</td>\n",
       "      <td>-14</td>\n",
       "      <td>-0.4</td>\n",
       "      <td>3021</td>\n",
       "      <td>-135</td>\n",
       "      <td>-4.3</td>\n",
       "      <td>2777</td>\n",
       "      <td>-244</td>\n",
       "      <td>-8.1</td>\n",
       "      <td>2608</td>\n",
       "      <td>-169</td>\n",
       "      <td>-6.1</td>\n",
       "    </tr>\n",
       "  </tbody>\n",
       "</table>\n",
       "</div>"
      ],
      "text/plain": [
       "    행정구역별(1) 행정구역별(2)   2017 2017.1 2017.2   2018 2018.1 2018.2  2019 2019.1   \n",
       "278  제주특별자치도      제주시  10383   -172   -1.6  10125   -258   -2.5  9635   -490  \\\n",
       "279  제주특별자치도     서귀포시   3170    162    5.4   3156    -14   -0.4  3021   -135   \n",
       "\n",
       "    2019.2  2020 2020.1 2020.2  2021 2021.1 2021.2  \n",
       "278   -4.8  9260   -375   -3.9  8648   -612   -6.6  \n",
       "279   -4.3  2777   -244   -8.1  2608   -169   -6.1  "
      ]
     },
     "execution_count": 5,
     "metadata": {},
     "output_type": "execute_result"
    }
   ],
   "source": [
    "# 신혼부부 수\n",
    "df_n_married = pd.read_csv('data/origin/시군구별_초혼_신혼부부_수_20230623151753_분석(전년_대비_증감,증감률).csv', encoding='euc-kr', sep=',')\n",
    "df_n_married.head(1283).tail(2)"
   ]
  },
  {
   "cell_type": "code",
   "execution_count": 6,
   "metadata": {},
   "outputs": [
    {
     "data": {
      "text/plain": [
       "'.1'"
      ]
     },
     "execution_count": 6,
     "metadata": {},
     "output_type": "execute_result"
    }
   ],
   "source": [
    "df_n_married.columns    # #Index(['행정구역별(1)', '행정', ..., '2021.2'], dtype='object')\n",
    "# type(df_n_married.columns)  # pandas.core.indexes.base.Index\n",
    "df_n_married.columns[1]     # '행정구역별(2)'\n",
    "# type(df_n_married.columns[1])   # str\n",
    "df_n_married.columns[3][-2:]   # .1\n",
    "# type(df_n_married.columns[3][-2:])   # str"
   ]
  },
  {
   "cell_type": "code",
   "execution_count": 14,
   "metadata": {},
   "outputs": [
    {
     "data": {
      "text/plain": [
       "('2017.1', 6, '.2', '2')"
      ]
     },
     "execution_count": 14,
     "metadata": {},
     "output_type": "execute_result"
    }
   ],
   "source": [
    "cols = df_n_married.columns\n",
    "cols[3], len(cols[3]), cols[4][-2:], cols[4][0]"
   ]
  },
  {
   "cell_type": "code",
   "execution_count": null,
   "metadata": {},
   "outputs": [],
   "source": [
    "        # df_n_married.rename(columns={f'{cols[i]}': f'{cols[i][:4]}신혼부부증감률'}, inplace=True) # col이름 바꾸기\n",
    "\n",
    "#### columns 정리하기 ###\n",
    "cols = df_n_married.columns\n",
    "col_list = []\n",
    "for i in range(int(len(cols))):\n",
    "    if (str(cols[i][-2]) == '.' and str(cols[i][-1] == '2')):\n",
    "        col_list.append(f'{cols[i]}신혼증감률')\n",
    "    elif (str(cols[i][-2:]) == '.1'):\n",
    "        df_n_married.drop(labels=cols[i], inplace=True, axis=1)\n",
    "    else:\n",
    "        col_list.append(f'{cols[i][2:4]}신혼수')\n",
    "        "
   ]
  },
  {
   "cell_type": "code",
   "execution_count": 17,
   "metadata": {},
   "outputs": [],
   "source": [
    "# df_newly_married.to_csv('data/tmp/지역별신혼부부_2021', index=False)"
   ]
  },
  {
   "cell_type": "code",
   "execution_count": null,
   "metadata": {},
   "outputs": [],
   "source": [
    "# df_newly_married.drop(df_newly_married['행정구역별(2)'] == '소계')"
   ]
  },
  {
   "cell_type": "code",
   "execution_count": null,
   "metadata": {},
   "outputs": [],
   "source": []
  }
 ],
 "metadata": {
  "kernelspec": {
   "display_name": "base",
   "language": "python",
   "name": "python3"
  },
  "language_info": {
   "codemirror_mode": {
    "name": "ipython",
    "version": 3
   },
   "file_extension": ".py",
   "mimetype": "text/x-python",
   "name": "python",
   "nbconvert_exporter": "python",
   "pygments_lexer": "ipython3",
   "version": "3.10.10"
  },
  "orig_nbformat": 4
 },
 "nbformat": 4,
 "nbformat_minor": 2
}
