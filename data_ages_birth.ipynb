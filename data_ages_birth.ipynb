{
 "cells": [
  {
   "cell_type": "code",
   "execution_count": 1,
   "metadata": {},
   "outputs": [],
   "source": [
    "import pandas as pd\n",
    "import numpy as np\n",
    "import platform\n",
    "import matplotlib.pyplot as plt"
   ]
  },
  {
   "cell_type": "code",
   "execution_count": 2,
   "metadata": {},
   "outputs": [],
   "source": [
    "%matplotlib inline"
   ]
  },
  {
   "cell_type": "code",
   "execution_count": 3,
   "metadata": {},
   "outputs": [],
   "source": [
    "from matplotlib import font_manager, rc # 한글 폰트 사용\n",
    "\n",
    "plt.rcParams[\"font.family\"] = \"malgun Gothic\"\n",
    "plt.rcParams['axes.unicode_minus'] = False"
   ]
  },
  {
   "cell_type": "code",
   "execution_count": null,
   "metadata": {},
   "outputs": [],
   "source": [
    "########## 지역인구 데이터 모두 불러와서 확인하기 ###########\n",
    "### 신혼부부 수 현황\n",
    "### 출생등록 현황\n",
    "### 아동/청소년/청년 인구 현황\n",
    "### 10세 연령구간별 인구 현황\n",
    "### 평균연령 현황"
   ]
  },
  {
   "cell_type": "code",
   "execution_count": null,
   "metadata": {},
   "outputs": [],
   "source": [
    "########## 데이터 전처리 계획 ###########\n",
    "# 1) 각 데이터 전처리\n",
    "### 신혼부부 수 현황 : 행정구역 행 하나로 합치기, 증감수 행 삭제, 행 이름 수정\n",
    "### 출생등록 현황 : 성별 행 삭제\n",
    "### 아동/청소년/청년 인구 현황 : 필요없는 데이터(미사용)\n",
    "### 10세 연령구간별 인구 현황 : 행 너무 많음. 과감히 삭제 및 concat 필요\n",
    "### 평균연령 현황 : 성별연령 행 삭제\n",
    "\n",
    "# 2) 전체 데이터 병합\n",
    "# 행정구역 정리\n",
    "# 결측치 확인"
   ]
  },
  {
   "cell_type": "code",
   "execution_count": 6,
   "metadata": {},
   "outputs": [
    {
     "data": {
      "text/html": [
       "<div>\n",
       "<style scoped>\n",
       "    .dataframe tbody tr th:only-of-type {\n",
       "        vertical-align: middle;\n",
       "    }\n",
       "\n",
       "    .dataframe tbody tr th {\n",
       "        vertical-align: top;\n",
       "    }\n",
       "\n",
       "    .dataframe thead th {\n",
       "        text-align: right;\n",
       "    }\n",
       "</style>\n",
       "<table border=\"1\" class=\"dataframe\">\n",
       "  <thead>\n",
       "    <tr style=\"text-align: right;\">\n",
       "      <th></th>\n",
       "      <th>행정구역</th>\n",
       "      <th>2023년05월_계_총인구수</th>\n",
       "      <th>2023년05월_계_연령구간인구수</th>\n",
       "      <th>2023년05월_계_0~9세</th>\n",
       "      <th>2023년05월_계_10~19세</th>\n",
       "      <th>2023년05월_계_20~29세</th>\n",
       "      <th>2023년05월_계_30~39세</th>\n",
       "      <th>2023년05월_계_40~49세</th>\n",
       "      <th>2023년05월_계_50~59세</th>\n",
       "      <th>2023년05월_계_60~69세</th>\n",
       "      <th>...</th>\n",
       "      <th>2023년05월_여_10~19세</th>\n",
       "      <th>2023년05월_여_20~29세</th>\n",
       "      <th>2023년05월_여_30~39세</th>\n",
       "      <th>2023년05월_여_40~49세</th>\n",
       "      <th>2023년05월_여_50~59세</th>\n",
       "      <th>2023년05월_여_60~69세</th>\n",
       "      <th>2023년05월_여_70~79세</th>\n",
       "      <th>2023년05월_여_80~89세</th>\n",
       "      <th>2023년05월_여_90~99세</th>\n",
       "      <th>2023년05월_여_100세 이상</th>\n",
       "    </tr>\n",
       "  </thead>\n",
       "  <tbody>\n",
       "    <tr>\n",
       "      <th>1277</th>\n",
       "      <td>세종특별자치시  대평동(3611057000)</td>\n",
       "      <td>11,224</td>\n",
       "      <td>11,224</td>\n",
       "      <td>1,491</td>\n",
       "      <td>1,173</td>\n",
       "      <td>1,219</td>\n",
       "      <td>1,980</td>\n",
       "      <td>2,075</td>\n",
       "      <td>1,780</td>\n",
       "      <td>1,050</td>\n",
       "      <td>...</td>\n",
       "      <td>575</td>\n",
       "      <td>588</td>\n",
       "      <td>1,033</td>\n",
       "      <td>1,045</td>\n",
       "      <td>935</td>\n",
       "      <td>524</td>\n",
       "      <td>152</td>\n",
       "      <td>92</td>\n",
       "      <td>23</td>\n",
       "      <td>0</td>\n",
       "    </tr>\n",
       "    <tr>\n",
       "      <th>1278</th>\n",
       "      <td>세종특별자치시  다정동(3611058000)</td>\n",
       "      <td>28,622</td>\n",
       "      <td>28,622</td>\n",
       "      <td>4,373</td>\n",
       "      <td>4,028</td>\n",
       "      <td>2,287</td>\n",
       "      <td>5,209</td>\n",
       "      <td>6,444</td>\n",
       "      <td>3,371</td>\n",
       "      <td>2,001</td>\n",
       "      <td>...</td>\n",
       "      <td>2,044</td>\n",
       "      <td>1,212</td>\n",
       "      <td>2,799</td>\n",
       "      <td>3,299</td>\n",
       "      <td>1,709</td>\n",
       "      <td>1,115</td>\n",
       "      <td>355</td>\n",
       "      <td>127</td>\n",
       "      <td>35</td>\n",
       "      <td>2</td>\n",
       "    </tr>\n",
       "    <tr>\n",
       "      <th>1279</th>\n",
       "      <td>경기도  (4100000000)</td>\n",
       "      <td>13,612,597</td>\n",
       "      <td>13,612,597</td>\n",
       "      <td>1,019,287</td>\n",
       "      <td>1,324,654</td>\n",
       "      <td>1,712,711</td>\n",
       "      <td>1,878,273</td>\n",
       "      <td>2,273,387</td>\n",
       "      <td>2,305,957</td>\n",
       "      <td>1,795,821</td>\n",
       "      <td>...</td>\n",
       "      <td>646,034</td>\n",
       "      <td>810,242</td>\n",
       "      <td>900,629</td>\n",
       "      <td>1,115,274</td>\n",
       "      <td>1,141,019</td>\n",
       "      <td>900,277</td>\n",
       "      <td>445,073</td>\n",
       "      <td>258,665</td>\n",
       "      <td>45,998</td>\n",
       "      <td>1,513</td>\n",
       "    </tr>\n",
       "  </tbody>\n",
       "</table>\n",
       "<p>3 rows × 40 columns</p>\n",
       "</div>"
      ],
      "text/plain": [
       "                          행정구역 2023년05월_계_총인구수 2023년05월_계_연령구간인구수   \n",
       "1277  세종특별자치시  대평동(3611057000)          11,224             11,224  \\\n",
       "1278  세종특별자치시  다정동(3611058000)          28,622             28,622   \n",
       "1279         경기도  (4100000000)      13,612,597         13,612,597   \n",
       "\n",
       "     2023년05월_계_0~9세 2023년05월_계_10~19세 2023년05월_계_20~29세 2023년05월_계_30~39세   \n",
       "1277           1,491             1,173             1,219             1,980  \\\n",
       "1278           4,373             4,028             2,287             5,209   \n",
       "1279       1,019,287         1,324,654         1,712,711         1,878,273   \n",
       "\n",
       "     2023년05월_계_40~49세 2023년05월_계_50~59세 2023년05월_계_60~69세  ...   \n",
       "1277             2,075             1,780             1,050  ...  \\\n",
       "1278             6,444             3,371             2,001  ...   \n",
       "1279         2,273,387         2,305,957         1,795,821  ...   \n",
       "\n",
       "     2023년05월_여_10~19세 2023년05월_여_20~29세 2023년05월_여_30~39세 2023년05월_여_40~49세   \n",
       "1277               575               588             1,033             1,045  \\\n",
       "1278             2,044             1,212             2,799             3,299   \n",
       "1279           646,034           810,242           900,629         1,115,274   \n",
       "\n",
       "     2023년05월_여_50~59세 2023년05월_여_60~69세 2023년05월_여_70~79세 2023년05월_여_80~89세   \n",
       "1277               935               524               152                92  \\\n",
       "1278             1,709             1,115               355               127   \n",
       "1279         1,141,019           900,277           445,073           258,665   \n",
       "\n",
       "     2023년05월_여_90~99세 2023년05월_여_100세 이상  \n",
       "1277                23                  0  \n",
       "1278                35                  2  \n",
       "1279            45,998              1,513  \n",
       "\n",
       "[3 rows x 40 columns]"
      ]
     },
     "execution_count": 6,
     "metadata": {},
     "output_type": "execute_result"
    }
   ],
   "source": [
    "# 10세 연령 구간별 인구\n",
    "df_age_10 = pd.read_csv('data/origin/202305_202305_연령별인구현황_월간_10세.csv',encoding='euc-kr', sep=',' )\n",
    "df_age_10.head(1280).tail(3)"
   ]
  },
  {
   "cell_type": "code",
   "execution_count": 7,
   "metadata": {},
   "outputs": [
    {
     "data": {
      "text/plain": [
       "(3877, 40)"
      ]
     },
     "execution_count": 7,
     "metadata": {},
     "output_type": "execute_result"
    }
   ],
   "source": [
    "df_age_10.shape"
   ]
  },
  {
   "cell_type": "code",
   "execution_count": 8,
   "metadata": {},
   "outputs": [
    {
     "data": {
      "text/html": [
       "<div>\n",
       "<style scoped>\n",
       "    .dataframe tbody tr th:only-of-type {\n",
       "        vertical-align: middle;\n",
       "    }\n",
       "\n",
       "    .dataframe tbody tr th {\n",
       "        vertical-align: top;\n",
       "    }\n",
       "\n",
       "    .dataframe thead th {\n",
       "        text-align: right;\n",
       "    }\n",
       "</style>\n",
       "<table border=\"1\" class=\"dataframe\">\n",
       "  <thead>\n",
       "    <tr style=\"text-align: right;\">\n",
       "      <th></th>\n",
       "      <th>행정구역</th>\n",
       "      <th>2023년05월_남자 평균연령</th>\n",
       "      <th>2023년05월_여자 평균연령</th>\n",
       "      <th>2023년05월_평균연령</th>\n",
       "    </tr>\n",
       "  </thead>\n",
       "  <tbody>\n",
       "    <tr>\n",
       "      <th>0</th>\n",
       "      <td>전국  (1000000000)</td>\n",
       "      <td>43.3</td>\n",
       "      <td>45.6</td>\n",
       "      <td>44.5</td>\n",
       "    </tr>\n",
       "    <tr>\n",
       "      <th>1</th>\n",
       "      <td>서울특별시  (1100000000)</td>\n",
       "      <td>43.4</td>\n",
       "      <td>44.9</td>\n",
       "      <td>44.2</td>\n",
       "    </tr>\n",
       "    <tr>\n",
       "      <th>2</th>\n",
       "      <td>서울특별시 종로구 (1111000000)</td>\n",
       "      <td>45.3</td>\n",
       "      <td>46.3</td>\n",
       "      <td>45.8</td>\n",
       "    </tr>\n",
       "    <tr>\n",
       "      <th>3</th>\n",
       "      <td>서울특별시 종로구 청운효자동(1111051500)</td>\n",
       "      <td>43.3</td>\n",
       "      <td>46.0</td>\n",
       "      <td>44.7</td>\n",
       "    </tr>\n",
       "    <tr>\n",
       "      <th>4</th>\n",
       "      <td>서울특별시 종로구 사직동(1111053000)</td>\n",
       "      <td>45.7</td>\n",
       "      <td>46.2</td>\n",
       "      <td>46.0</td>\n",
       "    </tr>\n",
       "  </tbody>\n",
       "</table>\n",
       "</div>"
      ],
      "text/plain": [
       "                          행정구역  2023년05월_남자 평균연령  2023년05월_여자 평균연령   \n",
       "0             전국  (1000000000)              43.3              45.6  \\\n",
       "1          서울특별시  (1100000000)              43.4              44.9   \n",
       "2       서울특별시 종로구 (1111000000)              45.3              46.3   \n",
       "3  서울특별시 종로구 청운효자동(1111051500)              43.3              46.0   \n",
       "4    서울특별시 종로구 사직동(1111053000)              45.7              46.2   \n",
       "\n",
       "   2023년05월_평균연령  \n",
       "0           44.5  \n",
       "1           44.2  \n",
       "2           45.8  \n",
       "3           44.7  \n",
       "4           46.0  "
      ]
     },
     "execution_count": 8,
     "metadata": {},
     "output_type": "execute_result"
    }
   ],
   "source": [
    "df_age_aver = pd.read_csv('data/origin/202305_202305_주민등록인구기타현황(평균연령)_avgAge.csv', encoding='euc-kr', sep=',')\n",
    "df_age_aver.head()"
   ]
  },
  {
   "cell_type": "code",
   "execution_count": 9,
   "metadata": {},
   "outputs": [
    {
     "data": {
      "text/plain": [
       "((3861, 4), 0)"
      ]
     },
     "execution_count": 9,
     "metadata": {},
     "output_type": "execute_result"
    }
   ],
   "source": [
    "df_age_aver.shape, df_age_aver.isna().sum().sum()"
   ]
  },
  {
   "cell_type": "code",
   "execution_count": 11,
   "metadata": {},
   "outputs": [],
   "source": [
    "############## age_10과 age_aver 데이터 합치기(merge) ##############\n",
    "# 공통인 행정구역을 기준으로\n",
    "df_ages = df_age_10.merge(df_age_aver, on = '행정구역', how='outer')\n",
    "df_ages.to_csv('data/tmp/전체연령.csv', index=False)"
   ]
  },
  {
   "cell_type": "code",
   "execution_count": 12,
   "metadata": {},
   "outputs": [],
   "source": [
    "df_ages = pd.read_csv('data/tmp/전체연령.csv', encoding='utf-8', sep=',')"
   ]
  },
  {
   "cell_type": "code",
   "execution_count": 22,
   "metadata": {},
   "outputs": [
    {
     "data": {
      "text/plain": [
       "(3878, 14)"
      ]
     },
     "execution_count": 22,
     "metadata": {},
     "output_type": "execute_result"
    }
   ],
   "source": [
    "df_ages.shape   # 3877 -> 3878 로 1개 행 증가함"
   ]
  },
  {
   "cell_type": "code",
   "execution_count": 13,
   "metadata": {},
   "outputs": [
    {
     "data": {
      "text/plain": [
       "Index(['행정구역', '2023년05월_계_총인구수', '2023년05월_계_연령구간인구수', '2023년05월_계_0~9세',\n",
       "       '2023년05월_계_10~19세', '2023년05월_계_20~29세', '2023년05월_계_30~39세',\n",
       "       '2023년05월_계_40~49세', '2023년05월_계_50~59세', '2023년05월_계_60~69세',\n",
       "       '2023년05월_계_70~79세', '2023년05월_계_80~89세', '2023년05월_계_90~99세',\n",
       "       '2023년05월_계_100세 이상', '2023년05월_남_총인구수', '2023년05월_남_연령구간인구수',\n",
       "       '2023년05월_남_0~9세', '2023년05월_남_10~19세', '2023년05월_남_20~29세',\n",
       "       '2023년05월_남_30~39세', '2023년05월_남_40~49세', '2023년05월_남_50~59세',\n",
       "       '2023년05월_남_60~69세', '2023년05월_남_70~79세', '2023년05월_남_80~89세',\n",
       "       '2023년05월_남_90~99세', '2023년05월_남_100세 이상', '2023년05월_여_총인구수',\n",
       "       '2023년05월_여_연령구간인구수', '2023년05월_여_0~9세', '2023년05월_여_10~19세',\n",
       "       '2023년05월_여_20~29세', '2023년05월_여_30~39세', '2023년05월_여_40~49세',\n",
       "       '2023년05월_여_50~59세', '2023년05월_여_60~69세', '2023년05월_여_70~79세',\n",
       "       '2023년05월_여_80~89세', '2023년05월_여_90~99세', '2023년05월_여_100세 이상',\n",
       "       '2023년05월_남자 평균연령', '2023년05월_여자 평균연령', '2023년05월_평균연령'],\n",
       "      dtype='object')"
      ]
     },
     "execution_count": 13,
     "metadata": {},
     "output_type": "execute_result"
    }
   ],
   "source": [
    "df_ages.columns"
   ]
  },
  {
   "cell_type": "code",
   "execution_count": 14,
   "metadata": {},
   "outputs": [
    {
     "data": {
      "text/plain": [
       "pandas.core.indexes.base.Index"
      ]
     },
     "execution_count": 14,
     "metadata": {},
     "output_type": "execute_result"
    }
   ],
   "source": [
    "# str(df_ages.columns[12][9])\n",
    "type(df_ages.columns)"
   ]
  },
  {
   "cell_type": "code",
   "execution_count": 15,
   "metadata": {},
   "outputs": [
    {
     "data": {
      "text/plain": [
       "('남', '_여_', 43)"
      ]
     },
     "execution_count": 15,
     "metadata": {},
     "output_type": "execute_result"
    }
   ],
   "source": [
    "df_ages.columns[18][9], df_ages.columns[30][8:11], len(df_ages.columns)"
   ]
  },
  {
   "cell_type": "code",
   "execution_count": 16,
   "metadata": {},
   "outputs": [
    {
     "name": "stdout",
     "output_type": "stream",
     "text": [
      "행정구역__보존0\n",
      "2023년05월_계_총인구수__보존1\n",
      "2023년05월_계_0~9세__보존3\n",
      "2023년05월_계_10~19세__보존4\n",
      "2023년05월_계_20~29세__보존5\n",
      "2023년05월_계_30~39세__보존6\n",
      "2023년05월_계_40~49세__보존7\n",
      "2023년05월_계_50~59세__보존8\n",
      "2023년05월_계_60~69세__보존9\n",
      "2023년05월_계_70~79세__보존10\n",
      "2023년05월_계_80~89세__보존11\n",
      "2023년05월_계_90~99세__보존12\n",
      "2023년05월_계_100세 이상__보존13\n",
      "2023년05월_평균연령__보존42\n"
     ]
    }
   ],
   "source": [
    "### 삭제 반복문 ###\n",
    "# '세'로 끝나면서 '계'가 아닌 것들 삭제\n",
    "# 남/여 연령구간인구수-> 총인구수와 중복됨-> 삭제하기 \n",
    "# 여/남 평균연령(성별들어간 행 삭제)\n",
    "# 삭제된 행은 print로 확인 \n",
    "\n",
    "cols = df_ages.columns\n",
    "col_list= []\n",
    "for i in range(int(len(cols))):     # int로 안하면 index range에러 뜸\n",
    "    if (str(cols[i][-1]) == '상' and str(cols[i][9]) != '계'):\n",
    "        df_ages.drop(labels=cols[i], inplace=True, axis=1)\n",
    "        # print(f'{i}삭제__{cols[i]}')\n",
    "    elif (str(cols[i][-1]) == '세' and str(cols[i][9]) != '계'):\n",
    "        df_ages.drop(labels=cols[i], inplace=True, axis=1)\n",
    "        # print(f'{i}삭제__{cols[i]}')\n",
    "    elif (str(cols[i][10:12]) == '_연'):\n",
    "        df_ages.drop(labels=cols[i], inplace=True, axis=1)\n",
    "        # print(f'{i}삭제__{cols[i]}')\n",
    "    elif (str(cols[i][8:10]) == '_남'):\n",
    "        df_ages.drop(labels=cols[i], inplace=True, axis=1)\n",
    "        # print(f'{i}삭제__{cols[i]}')\n",
    "    elif (str(cols[i][8:10]) == '_여'):\n",
    "        df_ages.drop(labels=cols[i], inplace=True, axis=1)\n",
    "        # print(f'{i}삭제__{cols[i]}')\n",
    "    else:\n",
    "        print(f'{cols[i]}__보존{i}')\n",
    "        col_list.append(cols[i].strip().split('_')[-1])  # 행이름에서 추출할 부분만"
   ]
  },
  {
   "cell_type": "code",
   "execution_count": 21,
   "metadata": {},
   "outputs": [
    {
     "data": {
      "text/plain": [
       "(Index(['행정구역', '총인구수', '0~9세', '10~19세', '20~29세', '30~39세', '40~49세',\n",
       "        '50~59세', '60~69세', '70~79세', '80~89세', '90~99세', '100세 이상', '평균연령'],\n",
       "       dtype='object'),\n",
       " 14)"
      ]
     },
     "execution_count": 21,
     "metadata": {},
     "output_type": "execute_result"
    }
   ],
   "source": [
    "df_ages.columns = col_list\n",
    "df_ages.columns, len(df_ages.columns)"
   ]
  },
  {
   "cell_type": "code",
   "execution_count": 26,
   "metadata": {},
   "outputs": [
    {
     "data": {
      "text/plain": [
       "행정구역        0\n",
       "총인구수        1\n",
       "0~9세        1\n",
       "10~19세      1\n",
       "20~29세      1\n",
       "30~39세      1\n",
       "40~49세      1\n",
       "50~59세      1\n",
       "60~69세      1\n",
       "70~79세      1\n",
       "80~89세      1\n",
       "90~99세      1\n",
       "100세 이상     1\n",
       "평균연령       17\n",
       "dtype: int64"
      ]
     },
     "execution_count": 26,
     "metadata": {},
     "output_type": "execute_result"
    }
   ],
   "source": [
    "df_ages.isna().sum()"
   ]
  },
  {
   "cell_type": "code",
   "execution_count": 28,
   "metadata": {},
   "outputs": [
    {
     "data": {
      "text/plain": [
       "행정구역       전국  (1000000000)\n",
       "총인구수                    NaN\n",
       "0~9세                    NaN\n",
       "10~19세                  NaN\n",
       "20~29세                  NaN\n",
       "30~39세                  NaN\n",
       "40~49세                  NaN\n",
       "50~59세                  NaN\n",
       "60~69세                  NaN\n",
       "70~79세                  NaN\n",
       "80~89세                  NaN\n",
       "90~99세                  NaN\n",
       "100세 이상                 NaN\n",
       "평균연령                   44.5\n",
       "Name: 3877, dtype: object"
      ]
     },
     "execution_count": 28,
     "metadata": {},
     "output_type": "execute_result"
    }
   ],
   "source": [
    "df_ages.iloc[3877]      # 행정구역-전국이 있음 -> 일단 킵(데이터 보존위해 결측치 행까지 병합한 상태)"
   ]
  },
  {
   "cell_type": "code",
   "execution_count": 30,
   "metadata": {},
   "outputs": [],
   "source": [
    "df_ages.to_csv('data/tmp/전체연령2.csv', index=False)"
   ]
  },
  {
   "cell_type": "code",
   "execution_count": 10,
   "metadata": {},
   "outputs": [
    {
     "data": {
      "text/html": [
       "<div>\n",
       "<style scoped>\n",
       "    .dataframe tbody tr th:only-of-type {\n",
       "        vertical-align: middle;\n",
       "    }\n",
       "\n",
       "    .dataframe tbody tr th {\n",
       "        vertical-align: top;\n",
       "    }\n",
       "\n",
       "    .dataframe thead th {\n",
       "        text-align: right;\n",
       "    }\n",
       "</style>\n",
       "<table border=\"1\" class=\"dataframe\">\n",
       "  <thead>\n",
       "    <tr style=\"text-align: right;\">\n",
       "      <th></th>\n",
       "      <th>행정구역</th>\n",
       "      <th>총인구수</th>\n",
       "      <th>0~9세</th>\n",
       "      <th>10~19세</th>\n",
       "      <th>20~29세</th>\n",
       "      <th>30~39세</th>\n",
       "      <th>40~49세</th>\n",
       "      <th>50~59세</th>\n",
       "      <th>60~69세</th>\n",
       "      <th>70~79세</th>\n",
       "      <th>80~89세</th>\n",
       "      <th>90~99세</th>\n",
       "      <th>100세 이상</th>\n",
       "      <th>평균연령</th>\n",
       "    </tr>\n",
       "  </thead>\n",
       "  <tbody>\n",
       "    <tr>\n",
       "      <th>0</th>\n",
       "      <td>서울특별시  (1100000000)</td>\n",
       "      <td>9,418,885</td>\n",
       "      <td>530,837</td>\n",
       "      <td>744,507</td>\n",
       "      <td>1,379,056</td>\n",
       "      <td>1,425,785</td>\n",
       "      <td>1,435,754</td>\n",
       "      <td>1,490,647</td>\n",
       "      <td>1,311,328</td>\n",
       "      <td>723,982</td>\n",
       "      <td>331,600</td>\n",
       "      <td>43,937</td>\n",
       "      <td>1,452</td>\n",
       "      <td>44.2</td>\n",
       "    </tr>\n",
       "    <tr>\n",
       "      <th>1</th>\n",
       "      <td>서울특별시 종로구 (1111000000)</td>\n",
       "      <td>140,601</td>\n",
       "      <td>6,125</td>\n",
       "      <td>10,069</td>\n",
       "      <td>21,929</td>\n",
       "      <td>19,345</td>\n",
       "      <td>19,563</td>\n",
       "      <td>24,007</td>\n",
       "      <td>20,542</td>\n",
       "      <td>11,443</td>\n",
       "      <td>6,609</td>\n",
       "      <td>935</td>\n",
       "      <td>34</td>\n",
       "      <td>45.8</td>\n",
       "    </tr>\n",
       "  </tbody>\n",
       "</table>\n",
       "</div>"
      ],
      "text/plain": [
       "                     행정구역       총인구수     0~9세   10~19세     20~29세     30~39세   \n",
       "0     서울특별시  (1100000000)  9,418,885  530,837  744,507  1,379,056  1,425,785  \\\n",
       "1  서울특별시 종로구 (1111000000)    140,601    6,125   10,069     21,929     19,345   \n",
       "\n",
       "      40~49세     50~59세     60~69세   70~79세   80~89세  90~99세 100세 이상  평균연령  \n",
       "0  1,435,754  1,490,647  1,311,328  723,982  331,600  43,937   1,452  44.2  \n",
       "1     19,563     24,007     20,542   11,443    6,609     935      34  45.8  "
      ]
     },
     "execution_count": 10,
     "metadata": {},
     "output_type": "execute_result"
    }
   ],
   "source": [
    "df_ages = pd.read_csv('data/tmp/전체연령2.csv',encoding='utf-8', sep=',')\n",
    "df_ages.head(2)"
   ]
  },
  {
   "cell_type": "code",
   "execution_count": null,
   "metadata": {},
   "outputs": [],
   "source": [
    "# ###### 축약버전 (미완) ####\n",
    "# cols = df_ages.columns\n",
    "# for i in range(1, 44):\n",
    "#     if (str(cols[i][9]) != '계' and (str(cols[i][-1]) == '상' or str(cols[i][-1]) == '세')):\n",
    "#         df_ages.drop(labels=cols[i], inplace=True, axis=1)\n",
    "#     elif (str(cols[i][10:12]) == '_연') or (str(cols[i][8:10]) == '_남') or (str(cols[i][8:10]) == '_여'):\n",
    "#         df_ages.drop(labels=cols[i], inplace=True, axis=1)\n",
    "#     else:\n",
    "#         print(f'{cols[i]}____{i}')"
   ]
  },
  {
   "cell_type": "code",
   "execution_count": 14,
   "metadata": {},
   "outputs": [
    {
     "data": {
      "text/html": [
       "<div>\n",
       "<style scoped>\n",
       "    .dataframe tbody tr th:only-of-type {\n",
       "        vertical-align: middle;\n",
       "    }\n",
       "\n",
       "    .dataframe tbody tr th {\n",
       "        vertical-align: top;\n",
       "    }\n",
       "\n",
       "    .dataframe thead th {\n",
       "        text-align: right;\n",
       "    }\n",
       "</style>\n",
       "<table border=\"1\" class=\"dataframe\">\n",
       "  <thead>\n",
       "    <tr style=\"text-align: right;\">\n",
       "      <th></th>\n",
       "      <th>행정구역</th>\n",
       "      <th>2023년05월_남자인구수</th>\n",
       "      <th>2023년05월_여자인구수</th>\n",
       "      <th>2023년05월_계</th>\n",
       "    </tr>\n",
       "  </thead>\n",
       "  <tbody>\n",
       "    <tr>\n",
       "      <th>1278</th>\n",
       "      <td>세종특별자치시  대평동(3611057000)</td>\n",
       "      <td>1</td>\n",
       "      <td>4</td>\n",
       "      <td>5</td>\n",
       "    </tr>\n",
       "    <tr>\n",
       "      <th>1279</th>\n",
       "      <td>세종특별자치시  다정동(3611058000)</td>\n",
       "      <td>15</td>\n",
       "      <td>10</td>\n",
       "      <td>25</td>\n",
       "    </tr>\n",
       "    <tr>\n",
       "      <th>1280</th>\n",
       "      <td>경기도  (4100000000)</td>\n",
       "      <td>3,189</td>\n",
       "      <td>2,988</td>\n",
       "      <td>6,177</td>\n",
       "    </tr>\n",
       "    <tr>\n",
       "      <th>1281</th>\n",
       "      <td>경기도 수원시 (4111000000)</td>\n",
       "      <td>246</td>\n",
       "      <td>270</td>\n",
       "      <td>516</td>\n",
       "    </tr>\n",
       "    <tr>\n",
       "      <th>1282</th>\n",
       "      <td>경기도 수원시 장안구 (4111100000)</td>\n",
       "      <td>37</td>\n",
       "      <td>41</td>\n",
       "      <td>78</td>\n",
       "    </tr>\n",
       "  </tbody>\n",
       "</table>\n",
       "</div>"
      ],
      "text/plain": [
       "                          행정구역 2023년05월_남자인구수 2023년05월_여자인구수 2023년05월_계\n",
       "1278  세종특별자치시  대평동(3611057000)              1              4          5\n",
       "1279  세종특별자치시  다정동(3611058000)             15             10         25\n",
       "1280         경기도  (4100000000)          3,189          2,988      6,177\n",
       "1281      경기도 수원시 (4111000000)            246            270        516\n",
       "1282  경기도 수원시 장안구 (4111100000)             37             41         78"
      ]
     },
     "execution_count": 14,
     "metadata": {},
     "output_type": "execute_result"
    }
   ],
   "source": [
    "# 출생등록 현황#####################\n",
    "df_birth = pd.read_csv('data/origin/202305_202305_주민등록인구기타현황(출생등록)_birth.csv', encoding='euc-kr', sep=',')\n",
    "df_birth.head(1283).tail()"
   ]
  },
  {
   "cell_type": "code",
   "execution_count": 15,
   "metadata": {},
   "outputs": [],
   "source": [
    "# 성별 제외\n",
    "df_birth = df_birth[['행정구역', '2023년05월_계']]\n",
    "df_birth.rename(columns = {'2023년05월_계':'출생인구'}, inplace=True)     # df.columns = ['col', 'col', 'col', ''...]"
   ]
  },
  {
   "cell_type": "code",
   "execution_count": 16,
   "metadata": {},
   "outputs": [],
   "source": [
    "# 성별제외ver 저장 \n",
    "df_birth.to_csv('data/tmp/출생등록.csv', index=False)"
   ]
  },
  {
   "cell_type": "code",
   "execution_count": 29,
   "metadata": {},
   "outputs": [
    {
     "data": {
      "text/html": [
       "<div>\n",
       "<style scoped>\n",
       "    .dataframe tbody tr th:only-of-type {\n",
       "        vertical-align: middle;\n",
       "    }\n",
       "\n",
       "    .dataframe tbody tr th {\n",
       "        vertical-align: top;\n",
       "    }\n",
       "\n",
       "    .dataframe thead th {\n",
       "        text-align: right;\n",
       "    }\n",
       "</style>\n",
       "<table border=\"1\" class=\"dataframe\">\n",
       "  <thead>\n",
       "    <tr style=\"text-align: right;\">\n",
       "      <th></th>\n",
       "      <th>행정구역</th>\n",
       "      <th>출생인구</th>\n",
       "    </tr>\n",
       "  </thead>\n",
       "  <tbody>\n",
       "    <tr>\n",
       "      <th>0</th>\n",
       "      <td>전국  (1000000000)</td>\n",
       "      <td>20,397</td>\n",
       "    </tr>\n",
       "    <tr>\n",
       "      <th>1</th>\n",
       "      <td>서울특별시  (1100000000)</td>\n",
       "      <td>3,520</td>\n",
       "    </tr>\n",
       "  </tbody>\n",
       "</table>\n",
       "</div>"
      ],
      "text/plain": [
       "                  행정구역    출생인구\n",
       "0     전국  (1000000000)  20,397\n",
       "1  서울특별시  (1100000000)   3,520"
      ]
     },
     "execution_count": 29,
     "metadata": {},
     "output_type": "execute_result"
    }
   ],
   "source": [
    "# 데이터 확인\n",
    "df_b = pd.read_csv('data/tmp/출생등록.csv', encoding='utf-8', sep=',')\n",
    "df_b.head(2)"
   ]
  },
  {
   "cell_type": "code",
   "execution_count": 11,
   "metadata": {},
   "outputs": [
    {
     "data": {
      "text/plain": [
       "((3876, 2), (3878, 14))"
      ]
     },
     "execution_count": 11,
     "metadata": {},
     "output_type": "execute_result"
    }
   ],
   "source": [
    "df_b.shape, df_ages.shape"
   ]
  },
  {
   "cell_type": "code",
   "execution_count": 30,
   "metadata": {},
   "outputs": [
    {
     "data": {
      "text/html": [
       "<div>\n",
       "<style scoped>\n",
       "    .dataframe tbody tr th:only-of-type {\n",
       "        vertical-align: middle;\n",
       "    }\n",
       "\n",
       "    .dataframe tbody tr th {\n",
       "        vertical-align: top;\n",
       "    }\n",
       "\n",
       "    .dataframe thead th {\n",
       "        text-align: right;\n",
       "    }\n",
       "</style>\n",
       "<table border=\"1\" class=\"dataframe\">\n",
       "  <thead>\n",
       "    <tr style=\"text-align: right;\">\n",
       "      <th></th>\n",
       "      <th>행정구역</th>\n",
       "      <th>총인구수</th>\n",
       "      <th>0~9세</th>\n",
       "      <th>10~19세</th>\n",
       "      <th>20~29세</th>\n",
       "      <th>30~39세</th>\n",
       "      <th>40~49세</th>\n",
       "      <th>50~59세</th>\n",
       "      <th>60~69세</th>\n",
       "      <th>70~79세</th>\n",
       "      <th>80~89세</th>\n",
       "      <th>90~99세</th>\n",
       "      <th>100세 이상</th>\n",
       "      <th>평균연령</th>\n",
       "      <th>출생인구</th>\n",
       "    </tr>\n",
       "  </thead>\n",
       "  <tbody>\n",
       "    <tr>\n",
       "      <th>2995</th>\n",
       "      <td>전라남도 강진군 신전면(4681035000)</td>\n",
       "      <td>1,686</td>\n",
       "      <td>43</td>\n",
       "      <td>80</td>\n",
       "      <td>65</td>\n",
       "      <td>58</td>\n",
       "      <td>142</td>\n",
       "      <td>249</td>\n",
       "      <td>413</td>\n",
       "      <td>326</td>\n",
       "      <td>273</td>\n",
       "      <td>36</td>\n",
       "      <td>1</td>\n",
       "      <td>61.0</td>\n",
       "      <td>1</td>\n",
       "    </tr>\n",
       "    <tr>\n",
       "      <th>2996</th>\n",
       "      <td>전라남도 강진군 성전면(4681036000)</td>\n",
       "      <td>2,656</td>\n",
       "      <td>55</td>\n",
       "      <td>112</td>\n",
       "      <td>146</td>\n",
       "      <td>142</td>\n",
       "      <td>199</td>\n",
       "      <td>419</td>\n",
       "      <td>638</td>\n",
       "      <td>486</td>\n",
       "      <td>397</td>\n",
       "      <td>62</td>\n",
       "      <td>0</td>\n",
       "      <td>60.1</td>\n",
       "      <td>2</td>\n",
       "    </tr>\n",
       "    <tr>\n",
       "      <th>2997</th>\n",
       "      <td>전라남도 강진군 작천면(4681037000)</td>\n",
       "      <td>1,797</td>\n",
       "      <td>43</td>\n",
       "      <td>63</td>\n",
       "      <td>100</td>\n",
       "      <td>80</td>\n",
       "      <td>125</td>\n",
       "      <td>276</td>\n",
       "      <td>408</td>\n",
       "      <td>322</td>\n",
       "      <td>318</td>\n",
       "      <td>61</td>\n",
       "      <td>1</td>\n",
       "      <td>61.4</td>\n",
       "      <td>3</td>\n",
       "    </tr>\n",
       "    <tr>\n",
       "      <th>2998</th>\n",
       "      <td>전라남도 강진군 병영면(4681038000)</td>\n",
       "      <td>1,540</td>\n",
       "      <td>34</td>\n",
       "      <td>67</td>\n",
       "      <td>84</td>\n",
       "      <td>60</td>\n",
       "      <td>121</td>\n",
       "      <td>271</td>\n",
       "      <td>336</td>\n",
       "      <td>270</td>\n",
       "      <td>246</td>\n",
       "      <td>48</td>\n",
       "      <td>3</td>\n",
       "      <td>60.6</td>\n",
       "      <td>0</td>\n",
       "    </tr>\n",
       "    <tr>\n",
       "      <th>2999</th>\n",
       "      <td>전라남도 강진군 옴천면(4681039000)</td>\n",
       "      <td>602</td>\n",
       "      <td>12</td>\n",
       "      <td>40</td>\n",
       "      <td>37</td>\n",
       "      <td>20</td>\n",
       "      <td>45</td>\n",
       "      <td>87</td>\n",
       "      <td>110</td>\n",
       "      <td>120</td>\n",
       "      <td>109</td>\n",
       "      <td>22</td>\n",
       "      <td>0</td>\n",
       "      <td>60.8</td>\n",
       "      <td>0</td>\n",
       "    </tr>\n",
       "  </tbody>\n",
       "</table>\n",
       "</div>"
      ],
      "text/plain": [
       "                          행정구역   총인구수 0~9세 10~19세 20~29세 30~39세 40~49세 50~59세   \n",
       "2995  전라남도 강진군 신전면(4681035000)  1,686   43     80     65     58    142    249  \\\n",
       "2996  전라남도 강진군 성전면(4681036000)  2,656   55    112    146    142    199    419   \n",
       "2997  전라남도 강진군 작천면(4681037000)  1,797   43     63    100     80    125    276   \n",
       "2998  전라남도 강진군 병영면(4681038000)  1,540   34     67     84     60    121    271   \n",
       "2999  전라남도 강진군 옴천면(4681039000)    602   12     40     37     20     45     87   \n",
       "\n",
       "     60~69세 70~79세 80~89세 90~99세 100세 이상  평균연령 출생인구  \n",
       "2995    413    326    273     36       1  61.0    1  \n",
       "2996    638    486    397     62       0  60.1    2  \n",
       "2997    408    322    318     61       1  61.4    3  \n",
       "2998    336    270    246     48       3  60.6    0  \n",
       "2999    110    120    109     22       0  60.8    0  "
      ]
     },
     "execution_count": 30,
     "metadata": {},
     "output_type": "execute_result"
    }
   ],
   "source": [
    "############## 출생인구df + 연령별인구df 합치기(merge) ##############\n",
    "# 공통인 행정구역을 기준으로\n",
    "df_ages_birth = df_ages.merge(df_b, on = '행정구역', how='outer')\n",
    "df_ages_birth.columns   # 출생인구 행 잘 들어감\n",
    "\n",
    "df_ages_birth.head(3000).tail()"
   ]
  },
  {
   "cell_type": "code",
   "execution_count": 31,
   "metadata": {},
   "outputs": [
    {
     "data": {
      "text/plain": [
       "(Index(['행정구역', '총인구수', '0~9세', '10~19세', '20~29세', '30~39세', '40~49세',\n",
       "        '50~59세', '60~69세', '70~79세', '80~89세', '90~99세', '100세 이상', '평균연령',\n",
       "        '출생인구'],\n",
       "       dtype='object'),\n",
       " (3878, 15))"
      ]
     },
     "execution_count": 31,
     "metadata": {},
     "output_type": "execute_result"
    }
   ],
   "source": [
    "############## 출생인구df + 연령별인구df merge ##############\n",
    "# merge \n",
    "df_ages_birth =  pd.merge(df_ages, df_b, on = '행정구역', how='outer')    # how='outer'을 써야 손실없이 병합됨.\n",
    "df_ages_birth.columns, df_ages_birth.shape    # 3878 -> 3878 변화없음"
   ]
  },
  {
   "cell_type": "code",
   "execution_count": 39,
   "metadata": {},
   "outputs": [
    {
     "data": {
      "text/plain": [
       "(3878, 15)"
      ]
     },
     "execution_count": 39,
     "metadata": {},
     "output_type": "execute_result"
    }
   ],
   "source": [
    "df_ages_birth.shape     # 3878 -> 3878 변화없음"
   ]
  },
  {
   "cell_type": "code",
   "execution_count": 43,
   "metadata": {},
   "outputs": [
    {
     "data": {
      "text/plain": [
       "행정구역        0\n",
       "총인구수        1\n",
       "0~9세        1\n",
       "10~19세      1\n",
       "20~29세      1\n",
       "30~39세      1\n",
       "40~49세      1\n",
       "50~59세      1\n",
       "60~69세      1\n",
       "70~79세      1\n",
       "80~89세      1\n",
       "90~99세      1\n",
       "100세 이상     1\n",
       "평균연령       17\n",
       "출생인구        2\n",
       "dtype: int64"
      ]
     },
     "execution_count": 43,
     "metadata": {},
     "output_type": "execute_result"
    }
   ],
   "source": [
    "df_ages_birth.isna().sum()  # 아까 전국 데이터 결측치 그대로. 변화x"
   ]
  },
  {
   "cell_type": "code",
   "execution_count": null,
   "metadata": {},
   "outputs": [],
   "source": [
    "########## 전체연령+출생인구 파일 저장(merge) ###########\n",
    "df_ages_birth.to_csv('data/tmp/전체연령_출생인구.csv', index=False)"
   ]
  },
  {
   "cell_type": "code",
   "execution_count": null,
   "metadata": {},
   "outputs": [],
   "source": [
    "########## 추가 전처리 ############\n",
    "# 연령구간 합치기\n",
    "# "
   ]
  },
  {
   "cell_type": "code",
   "execution_count": 10,
   "metadata": {},
   "outputs": [],
   "source": [
    "df_ab = pd.read_csv('data/tmp/전체연령_출생인구.csv', encoding='utf-8', sep=',')"
   ]
  },
  {
   "cell_type": "code",
   "execution_count": 11,
   "metadata": {},
   "outputs": [
    {
     "data": {
      "text/html": [
       "<div>\n",
       "<style scoped>\n",
       "    .dataframe tbody tr th:only-of-type {\n",
       "        vertical-align: middle;\n",
       "    }\n",
       "\n",
       "    .dataframe tbody tr th {\n",
       "        vertical-align: top;\n",
       "    }\n",
       "\n",
       "    .dataframe thead th {\n",
       "        text-align: right;\n",
       "    }\n",
       "</style>\n",
       "<table border=\"1\" class=\"dataframe\">\n",
       "  <thead>\n",
       "    <tr style=\"text-align: right;\">\n",
       "      <th></th>\n",
       "      <th>행정구역</th>\n",
       "      <th>총인구수</th>\n",
       "      <th>0~9세</th>\n",
       "      <th>10~19세</th>\n",
       "      <th>20~29세</th>\n",
       "      <th>30~39세</th>\n",
       "      <th>40~49세</th>\n",
       "      <th>50~59세</th>\n",
       "      <th>60~69세</th>\n",
       "      <th>70~79세</th>\n",
       "      <th>80~89세</th>\n",
       "      <th>90~99세</th>\n",
       "      <th>100세 이상</th>\n",
       "      <th>평균연령</th>\n",
       "      <th>출생인구</th>\n",
       "    </tr>\n",
       "  </thead>\n",
       "  <tbody>\n",
       "    <tr>\n",
       "      <th>0</th>\n",
       "      <td>서울특별시  (1100000000)</td>\n",
       "      <td>9,418,885</td>\n",
       "      <td>530,837</td>\n",
       "      <td>744,507</td>\n",
       "      <td>1,379,056</td>\n",
       "      <td>1,425,785</td>\n",
       "      <td>1,435,754</td>\n",
       "      <td>1,490,647</td>\n",
       "      <td>1,311,328</td>\n",
       "      <td>723,982</td>\n",
       "      <td>331,600</td>\n",
       "      <td>43,937</td>\n",
       "      <td>1,452</td>\n",
       "      <td>44.2</td>\n",
       "      <td>3,520</td>\n",
       "    </tr>\n",
       "    <tr>\n",
       "      <th>1</th>\n",
       "      <td>서울특별시 종로구 (1111000000)</td>\n",
       "      <td>140,601</td>\n",
       "      <td>6,125</td>\n",
       "      <td>10,069</td>\n",
       "      <td>21,929</td>\n",
       "      <td>19,345</td>\n",
       "      <td>19,563</td>\n",
       "      <td>24,007</td>\n",
       "      <td>20,542</td>\n",
       "      <td>11,443</td>\n",
       "      <td>6,609</td>\n",
       "      <td>935</td>\n",
       "      <td>34</td>\n",
       "      <td>45.8</td>\n",
       "      <td>28</td>\n",
       "    </tr>\n",
       "    <tr>\n",
       "      <th>2</th>\n",
       "      <td>서울특별시 종로구 청운효자동(1111051500)</td>\n",
       "      <td>11,517</td>\n",
       "      <td>629</td>\n",
       "      <td>1,116</td>\n",
       "      <td>1,411</td>\n",
       "      <td>1,550</td>\n",
       "      <td>1,965</td>\n",
       "      <td>1,899</td>\n",
       "      <td>1,399</td>\n",
       "      <td>915</td>\n",
       "      <td>552</td>\n",
       "      <td>78</td>\n",
       "      <td>3</td>\n",
       "      <td>44.7</td>\n",
       "      <td>2</td>\n",
       "    </tr>\n",
       "    <tr>\n",
       "      <th>3</th>\n",
       "      <td>서울특별시 종로구 사직동(1111053000)</td>\n",
       "      <td>9,104</td>\n",
       "      <td>494</td>\n",
       "      <td>665</td>\n",
       "      <td>1,078</td>\n",
       "      <td>1,439</td>\n",
       "      <td>1,410</td>\n",
       "      <td>1,494</td>\n",
       "      <td>1,240</td>\n",
       "      <td>692</td>\n",
       "      <td>502</td>\n",
       "      <td>86</td>\n",
       "      <td>4</td>\n",
       "      <td>46.0</td>\n",
       "      <td>0</td>\n",
       "    </tr>\n",
       "    <tr>\n",
       "      <th>4</th>\n",
       "      <td>서울특별시 종로구 삼청동(1111054000)</td>\n",
       "      <td>2,291</td>\n",
       "      <td>82</td>\n",
       "      <td>169</td>\n",
       "      <td>264</td>\n",
       "      <td>294</td>\n",
       "      <td>320</td>\n",
       "      <td>350</td>\n",
       "      <td>393</td>\n",
       "      <td>241</td>\n",
       "      <td>150</td>\n",
       "      <td>26</td>\n",
       "      <td>2</td>\n",
       "      <td>49.0</td>\n",
       "      <td>1</td>\n",
       "    </tr>\n",
       "  </tbody>\n",
       "</table>\n",
       "</div>"
      ],
      "text/plain": [
       "                          행정구역       총인구수     0~9세   10~19세     20~29세   \n",
       "0          서울특별시  (1100000000)  9,418,885  530,837  744,507  1,379,056  \\\n",
       "1       서울특별시 종로구 (1111000000)    140,601    6,125   10,069     21,929   \n",
       "2  서울특별시 종로구 청운효자동(1111051500)     11,517      629    1,116      1,411   \n",
       "3    서울특별시 종로구 사직동(1111053000)      9,104      494      665      1,078   \n",
       "4    서울특별시 종로구 삼청동(1111054000)      2,291       82      169        264   \n",
       "\n",
       "      30~39세     40~49세     50~59세     60~69세   70~79세   80~89세  90~99세   \n",
       "0  1,425,785  1,435,754  1,490,647  1,311,328  723,982  331,600  43,937  \\\n",
       "1     19,345     19,563     24,007     20,542   11,443    6,609     935   \n",
       "2      1,550      1,965      1,899      1,399      915      552      78   \n",
       "3      1,439      1,410      1,494      1,240      692      502      86   \n",
       "4        294        320        350        393      241      150      26   \n",
       "\n",
       "  100세 이상  평균연령   출생인구  \n",
       "0   1,452  44.2  3,520  \n",
       "1      34  45.8     28  \n",
       "2       3  44.7      2  \n",
       "3       4  46.0      0  \n",
       "4       2  49.0      1  "
      ]
     },
     "execution_count": 11,
     "metadata": {},
     "output_type": "execute_result"
    }
   ],
   "source": [
    "df_ab.head()"
   ]
  },
  {
   "cell_type": "code",
   "execution_count": null,
   "metadata": {},
   "outputs": [],
   "source": [
    "df_ab"
   ]
  },
  {
   "cell_type": "code",
   "execution_count": 12,
   "metadata": {},
   "outputs": [
    {
     "data": {
      "text/html": [
       "<div>\n",
       "<style scoped>\n",
       "    .dataframe tbody tr th:only-of-type {\n",
       "        vertical-align: middle;\n",
       "    }\n",
       "\n",
       "    .dataframe tbody tr th {\n",
       "        vertical-align: top;\n",
       "    }\n",
       "\n",
       "    .dataframe thead th {\n",
       "        text-align: right;\n",
       "    }\n",
       "</style>\n",
       "<table border=\"1\" class=\"dataframe\">\n",
       "  <thead>\n",
       "    <tr style=\"text-align: right;\">\n",
       "      <th></th>\n",
       "      <th>80~89세</th>\n",
       "      <th>90~99세</th>\n",
       "      <th>100세 이상</th>\n",
       "    </tr>\n",
       "  </thead>\n",
       "  <tbody>\n",
       "    <tr>\n",
       "      <th>0</th>\n",
       "      <td>331,600</td>\n",
       "      <td>43,937</td>\n",
       "      <td>1,452</td>\n",
       "    </tr>\n",
       "    <tr>\n",
       "      <th>1</th>\n",
       "      <td>6,609</td>\n",
       "      <td>935</td>\n",
       "      <td>34</td>\n",
       "    </tr>\n",
       "  </tbody>\n",
       "</table>\n",
       "</div>"
      ],
      "text/plain": [
       "    80~89세  90~99세 100세 이상\n",
       "0  331,600  43,937   1,452\n",
       "1    6,609     935      34"
      ]
     },
     "execution_count": 12,
     "metadata": {},
     "output_type": "execute_result"
    }
   ],
   "source": [
    "df_ab.iloc[:, 10:13].head(2)"
   ]
  },
  {
   "cell_type": "code",
   "execution_count": 19,
   "metadata": {},
   "outputs": [],
   "source": [
    "df_ab['70세 이상a'] = df_ab['70~79세'] + df_ab['80~89세'] + df_ab['90~99세']+ df_ab['100세 이상']"
   ]
  },
  {
   "cell_type": "code",
   "execution_count": 21,
   "metadata": {},
   "outputs": [],
   "source": [
    "df_ab.drop(columns='70세 이상', inplace=True)"
   ]
  },
  {
   "cell_type": "code",
   "execution_count": 22,
   "metadata": {},
   "outputs": [
    {
     "data": {
      "text/html": [
       "<div>\n",
       "<style scoped>\n",
       "    .dataframe tbody tr th:only-of-type {\n",
       "        vertical-align: middle;\n",
       "    }\n",
       "\n",
       "    .dataframe tbody tr th {\n",
       "        vertical-align: top;\n",
       "    }\n",
       "\n",
       "    .dataframe thead th {\n",
       "        text-align: right;\n",
       "    }\n",
       "</style>\n",
       "<table border=\"1\" class=\"dataframe\">\n",
       "  <thead>\n",
       "    <tr style=\"text-align: right;\">\n",
       "      <th></th>\n",
       "      <th>행정구역</th>\n",
       "      <th>총인구수</th>\n",
       "      <th>0~9세</th>\n",
       "      <th>10~19세</th>\n",
       "      <th>20~29세</th>\n",
       "      <th>30~39세</th>\n",
       "      <th>40~49세</th>\n",
       "      <th>50~59세</th>\n",
       "      <th>60~69세</th>\n",
       "      <th>70~79세</th>\n",
       "      <th>80~89세</th>\n",
       "      <th>90~99세</th>\n",
       "      <th>100세 이상</th>\n",
       "      <th>평균연령</th>\n",
       "      <th>출생인구</th>\n",
       "      <th>70세 이상a</th>\n",
       "    </tr>\n",
       "  </thead>\n",
       "  <tbody>\n",
       "    <tr>\n",
       "      <th>0</th>\n",
       "      <td>서울특별시  (1100000000)</td>\n",
       "      <td>9,418,885</td>\n",
       "      <td>530,837</td>\n",
       "      <td>744,507</td>\n",
       "      <td>1,379,056</td>\n",
       "      <td>1,425,785</td>\n",
       "      <td>1,435,754</td>\n",
       "      <td>1,490,647</td>\n",
       "      <td>1,311,328</td>\n",
       "      <td>723,982</td>\n",
       "      <td>331,600</td>\n",
       "      <td>43,937</td>\n",
       "      <td>1,452</td>\n",
       "      <td>44.2</td>\n",
       "      <td>3,520</td>\n",
       "      <td>723,982331,60043,9371,452</td>\n",
       "    </tr>\n",
       "    <tr>\n",
       "      <th>1</th>\n",
       "      <td>서울특별시 종로구 (1111000000)</td>\n",
       "      <td>140,601</td>\n",
       "      <td>6,125</td>\n",
       "      <td>10,069</td>\n",
       "      <td>21,929</td>\n",
       "      <td>19,345</td>\n",
       "      <td>19,563</td>\n",
       "      <td>24,007</td>\n",
       "      <td>20,542</td>\n",
       "      <td>11,443</td>\n",
       "      <td>6,609</td>\n",
       "      <td>935</td>\n",
       "      <td>34</td>\n",
       "      <td>45.8</td>\n",
       "      <td>28</td>\n",
       "      <td>11,4436,60993534</td>\n",
       "    </tr>\n",
       "    <tr>\n",
       "      <th>2</th>\n",
       "      <td>서울특별시 종로구 청운효자동(1111051500)</td>\n",
       "      <td>11,517</td>\n",
       "      <td>629</td>\n",
       "      <td>1,116</td>\n",
       "      <td>1,411</td>\n",
       "      <td>1,550</td>\n",
       "      <td>1,965</td>\n",
       "      <td>1,899</td>\n",
       "      <td>1,399</td>\n",
       "      <td>915</td>\n",
       "      <td>552</td>\n",
       "      <td>78</td>\n",
       "      <td>3</td>\n",
       "      <td>44.7</td>\n",
       "      <td>2</td>\n",
       "      <td>915552783</td>\n",
       "    </tr>\n",
       "    <tr>\n",
       "      <th>3</th>\n",
       "      <td>서울특별시 종로구 사직동(1111053000)</td>\n",
       "      <td>9,104</td>\n",
       "      <td>494</td>\n",
       "      <td>665</td>\n",
       "      <td>1,078</td>\n",
       "      <td>1,439</td>\n",
       "      <td>1,410</td>\n",
       "      <td>1,494</td>\n",
       "      <td>1,240</td>\n",
       "      <td>692</td>\n",
       "      <td>502</td>\n",
       "      <td>86</td>\n",
       "      <td>4</td>\n",
       "      <td>46.0</td>\n",
       "      <td>0</td>\n",
       "      <td>692502864</td>\n",
       "    </tr>\n",
       "    <tr>\n",
       "      <th>4</th>\n",
       "      <td>서울특별시 종로구 삼청동(1111054000)</td>\n",
       "      <td>2,291</td>\n",
       "      <td>82</td>\n",
       "      <td>169</td>\n",
       "      <td>264</td>\n",
       "      <td>294</td>\n",
       "      <td>320</td>\n",
       "      <td>350</td>\n",
       "      <td>393</td>\n",
       "      <td>241</td>\n",
       "      <td>150</td>\n",
       "      <td>26</td>\n",
       "      <td>2</td>\n",
       "      <td>49.0</td>\n",
       "      <td>1</td>\n",
       "      <td>241150262</td>\n",
       "    </tr>\n",
       "  </tbody>\n",
       "</table>\n",
       "</div>"
      ],
      "text/plain": [
       "                          행정구역       총인구수     0~9세   10~19세     20~29세   \n",
       "0          서울특별시  (1100000000)  9,418,885  530,837  744,507  1,379,056  \\\n",
       "1       서울특별시 종로구 (1111000000)    140,601    6,125   10,069     21,929   \n",
       "2  서울특별시 종로구 청운효자동(1111051500)     11,517      629    1,116      1,411   \n",
       "3    서울특별시 종로구 사직동(1111053000)      9,104      494      665      1,078   \n",
       "4    서울특별시 종로구 삼청동(1111054000)      2,291       82      169        264   \n",
       "\n",
       "      30~39세     40~49세     50~59세     60~69세   70~79세   80~89세  90~99세   \n",
       "0  1,425,785  1,435,754  1,490,647  1,311,328  723,982  331,600  43,937  \\\n",
       "1     19,345     19,563     24,007     20,542   11,443    6,609     935   \n",
       "2      1,550      1,965      1,899      1,399      915      552      78   \n",
       "3      1,439      1,410      1,494      1,240      692      502      86   \n",
       "4        294        320        350        393      241      150      26   \n",
       "\n",
       "  100세 이상  평균연령   출생인구                    70세 이상a  \n",
       "0   1,452  44.2  3,520  723,982331,60043,9371,452  \n",
       "1      34  45.8     28           11,4436,60993534  \n",
       "2       3  44.7      2                  915552783  \n",
       "3       4  46.0      0                  692502864  \n",
       "4       2  49.0      1                  241150262  "
      ]
     },
     "execution_count": 22,
     "metadata": {},
     "output_type": "execute_result"
    }
   ],
   "source": [
    "df_ab.head()        # 70세 이상 행의 숫자가 이상함 -> int변환 누락"
   ]
  },
  {
   "cell_type": "code",
   "execution_count": 26,
   "metadata": {},
   "outputs": [
    {
     "data": {
      "text/html": [
       "<div>\n",
       "<style scoped>\n",
       "    .dataframe tbody tr th:only-of-type {\n",
       "        vertical-align: middle;\n",
       "    }\n",
       "\n",
       "    .dataframe tbody tr th {\n",
       "        vertical-align: top;\n",
       "    }\n",
       "\n",
       "    .dataframe thead th {\n",
       "        text-align: right;\n",
       "    }\n",
       "</style>\n",
       "<table border=\"1\" class=\"dataframe\">\n",
       "  <thead>\n",
       "    <tr style=\"text-align: right;\">\n",
       "      <th></th>\n",
       "      <th>행정구역</th>\n",
       "      <th>총인구수</th>\n",
       "      <th>0~9세</th>\n",
       "      <th>10~19세</th>\n",
       "      <th>20~29세</th>\n",
       "      <th>30~39세</th>\n",
       "      <th>40~49세</th>\n",
       "      <th>50~59세</th>\n",
       "      <th>60~69세</th>\n",
       "      <th>70~79세</th>\n",
       "      <th>80~89세</th>\n",
       "      <th>90~99세</th>\n",
       "      <th>100세 이상</th>\n",
       "      <th>평균연령</th>\n",
       "      <th>출생인구</th>\n",
       "    </tr>\n",
       "  </thead>\n",
       "  <tbody>\n",
       "    <tr>\n",
       "      <th>0</th>\n",
       "      <td>서울특별시  (1100000000)</td>\n",
       "      <td>9,418,885</td>\n",
       "      <td>530,837</td>\n",
       "      <td>744,507</td>\n",
       "      <td>1,379,056</td>\n",
       "      <td>1,425,785</td>\n",
       "      <td>1,435,754</td>\n",
       "      <td>1,490,647</td>\n",
       "      <td>1,311,328</td>\n",
       "      <td>723,982</td>\n",
       "      <td>331,600</td>\n",
       "      <td>43,937</td>\n",
       "      <td>1,452</td>\n",
       "      <td>44.2</td>\n",
       "      <td>3,520</td>\n",
       "    </tr>\n",
       "    <tr>\n",
       "      <th>1</th>\n",
       "      <td>서울특별시 종로구 (1111000000)</td>\n",
       "      <td>140,601</td>\n",
       "      <td>6,125</td>\n",
       "      <td>10,069</td>\n",
       "      <td>21,929</td>\n",
       "      <td>19,345</td>\n",
       "      <td>19,563</td>\n",
       "      <td>24,007</td>\n",
       "      <td>20,542</td>\n",
       "      <td>11,443</td>\n",
       "      <td>6,609</td>\n",
       "      <td>935</td>\n",
       "      <td>34</td>\n",
       "      <td>45.8</td>\n",
       "      <td>28</td>\n",
       "    </tr>\n",
       "  </tbody>\n",
       "</table>\n",
       "</div>"
      ],
      "text/plain": [
       "                     행정구역       총인구수     0~9세   10~19세     20~29세     30~39세   \n",
       "0     서울특별시  (1100000000)  9,418,885  530,837  744,507  1,379,056  1,425,785  \\\n",
       "1  서울특별시 종로구 (1111000000)    140,601    6,125   10,069     21,929     19,345   \n",
       "\n",
       "      40~49세     50~59세     60~69세   70~79세   80~89세  90~99세 100세 이상  평균연령   \n",
       "0  1,435,754  1,490,647  1,311,328  723,982  331,600  43,937   1,452  44.2  \\\n",
       "1     19,563     24,007     20,542   11,443    6,609     935      34  45.8   \n",
       "\n",
       "    출생인구  \n",
       "0  3,520  \n",
       "1     28  "
      ]
     },
     "execution_count": 26,
     "metadata": {},
     "output_type": "execute_result"
    }
   ],
   "source": [
    "df_ab.drop(columns='70세 이상a', inplace=True)\n",
    "df_ab.head(2)       # 70a도 삭제함"
   ]
  },
  {
   "cell_type": "code",
   "execution_count": 4,
   "metadata": {},
   "outputs": [
    {
     "data": {
      "text/html": [
       "<div>\n",
       "<style scoped>\n",
       "    .dataframe tbody tr th:only-of-type {\n",
       "        vertical-align: middle;\n",
       "    }\n",
       "\n",
       "    .dataframe tbody tr th {\n",
       "        vertical-align: top;\n",
       "    }\n",
       "\n",
       "    .dataframe thead th {\n",
       "        text-align: right;\n",
       "    }\n",
       "</style>\n",
       "<table border=\"1\" class=\"dataframe\">\n",
       "  <thead>\n",
       "    <tr style=\"text-align: right;\">\n",
       "      <th></th>\n",
       "      <th>행정구역</th>\n",
       "      <th>총인구수</th>\n",
       "      <th>0~9세</th>\n",
       "      <th>10~19세</th>\n",
       "      <th>20~29세</th>\n",
       "      <th>30~39세</th>\n",
       "      <th>40~49세</th>\n",
       "      <th>50~59세</th>\n",
       "      <th>60~69세</th>\n",
       "      <th>70~79세</th>\n",
       "      <th>80~89세</th>\n",
       "      <th>90~99세</th>\n",
       "      <th>100세 이상</th>\n",
       "      <th>평균연령</th>\n",
       "      <th>출생인구</th>\n",
       "    </tr>\n",
       "  </thead>\n",
       "  <tbody>\n",
       "    <tr>\n",
       "      <th>0</th>\n",
       "      <td>서울특별시  (1100000000)</td>\n",
       "      <td>9418885.0</td>\n",
       "      <td>530837.0</td>\n",
       "      <td>744507.0</td>\n",
       "      <td>1379056.0</td>\n",
       "      <td>1425785.0</td>\n",
       "      <td>1435754.0</td>\n",
       "      <td>1490647.0</td>\n",
       "      <td>1311328.0</td>\n",
       "      <td>723982.0</td>\n",
       "      <td>331600.0</td>\n",
       "      <td>43937.0</td>\n",
       "      <td>1452.0</td>\n",
       "      <td>44.2</td>\n",
       "      <td>3520.0</td>\n",
       "    </tr>\n",
       "    <tr>\n",
       "      <th>1</th>\n",
       "      <td>서울특별시 종로구 (1111000000)</td>\n",
       "      <td>140601.0</td>\n",
       "      <td>6125.0</td>\n",
       "      <td>10069.0</td>\n",
       "      <td>21929.0</td>\n",
       "      <td>19345.0</td>\n",
       "      <td>19563.0</td>\n",
       "      <td>24007.0</td>\n",
       "      <td>20542.0</td>\n",
       "      <td>11443.0</td>\n",
       "      <td>6609.0</td>\n",
       "      <td>935.0</td>\n",
       "      <td>34.0</td>\n",
       "      <td>45.8</td>\n",
       "      <td>28.0</td>\n",
       "    </tr>\n",
       "    <tr>\n",
       "      <th>2</th>\n",
       "      <td>서울특별시 종로구 청운효자동(1111051500)</td>\n",
       "      <td>11517.0</td>\n",
       "      <td>629.0</td>\n",
       "      <td>1116.0</td>\n",
       "      <td>1411.0</td>\n",
       "      <td>1550.0</td>\n",
       "      <td>1965.0</td>\n",
       "      <td>1899.0</td>\n",
       "      <td>1399.0</td>\n",
       "      <td>915.0</td>\n",
       "      <td>552.0</td>\n",
       "      <td>78.0</td>\n",
       "      <td>3.0</td>\n",
       "      <td>44.7</td>\n",
       "      <td>2.0</td>\n",
       "    </tr>\n",
       "  </tbody>\n",
       "</table>\n",
       "</div>"
      ],
      "text/plain": [
       "                          행정구역       총인구수      0~9세    10~19세     20~29세   \n",
       "0          서울특별시  (1100000000)  9418885.0  530837.0  744507.0  1379056.0  \\\n",
       "1       서울특별시 종로구 (1111000000)   140601.0    6125.0   10069.0    21929.0   \n",
       "2  서울특별시 종로구 청운효자동(1111051500)    11517.0     629.0    1116.0     1411.0   \n",
       "\n",
       "      30~39세     40~49세     50~59세     60~69세    70~79세    80~89세   90~99세   \n",
       "0  1425785.0  1435754.0  1490647.0  1311328.0  723982.0  331600.0  43937.0  \\\n",
       "1    19345.0    19563.0    24007.0    20542.0   11443.0    6609.0    935.0   \n",
       "2     1550.0     1965.0     1899.0     1399.0     915.0     552.0     78.0   \n",
       "\n",
       "   100세 이상  평균연령    출생인구  \n",
       "0   1452.0  44.2  3520.0  \n",
       "1     34.0  45.8    28.0  \n",
       "2      3.0  44.7     2.0  "
      ]
     },
     "execution_count": 4,
     "metadata": {},
     "output_type": "execute_result"
    }
   ],
   "source": [
    "#### 결측치 삭제 후 int로 변환!!!!!!\n",
    "# 다시 불러오기\n",
    "# 천단위 기호 , \n",
    "df_ab = pd.read_csv('data/tmp/전체연령_출생인구.csv', encoding='utf-8',thousands=',')\n",
    "df_ab.head(3)"
   ]
  },
  {
   "cell_type": "code",
   "execution_count": 5,
   "metadata": {},
   "outputs": [
    {
     "data": {
      "text/plain": [
       "행정구역        0\n",
       "총인구수        1\n",
       "0~9세        1\n",
       "10~19세      1\n",
       "20~29세      1\n",
       "30~39세      1\n",
       "40~49세      1\n",
       "50~59세      1\n",
       "60~69세      1\n",
       "70~79세      1\n",
       "80~89세      1\n",
       "90~99세      1\n",
       "100세 이상     1\n",
       "평균연령       17\n",
       "출생인구        2\n",
       "dtype: int64"
      ]
     },
     "execution_count": 5,
     "metadata": {},
     "output_type": "execute_result"
    }
   ],
   "source": [
    "# 결측치 확인\n",
    "df_ab[df_ab['평균연령'].isnull()]\n",
    "df_ab.isnull().sum()"
   ]
  },
  {
   "cell_type": "code",
   "execution_count": 6,
   "metadata": {},
   "outputs": [],
   "source": [
    "# 결측치 처리 (대체)\n",
    "# merge작업 시 모든 행을 손실없이 병합 -> 값이 없던 행에는 결측치 생김\n",
    "# -> 원래 없던 값이므로 '0'으로 바꾼다.\n",
    "df_ab.fillna('0', inplace=True)"
   ]
  },
  {
   "cell_type": "code",
   "execution_count": 7,
   "metadata": {},
   "outputs": [
    {
     "data": {
      "text/plain": [
       "0"
      ]
     },
     "execution_count": 7,
     "metadata": {},
     "output_type": "execute_result"
    }
   ],
   "source": [
    "df_ab.isna().sum().sum()"
   ]
  },
  {
   "cell_type": "code",
   "execution_count": 8,
   "metadata": {},
   "outputs": [
    {
     "data": {
      "text/plain": [
       "0       9418885\n",
       "1        140601\n",
       "2         11517\n",
       "3          9104\n",
       "4          2291\n",
       "         ...   \n",
       "3873      15586\n",
       "3874      13627\n",
       "3875      12309\n",
       "3876       3887\n",
       "3877          0\n",
       "Name: 총인구수, Length: 3878, dtype: int32"
      ]
     },
     "execution_count": 8,
     "metadata": {},
     "output_type": "execute_result"
    }
   ],
   "source": [
    "df_ab['총인구수'].astype(int)   # 총인구수로 테스트"
   ]
  },
  {
   "cell_type": "code",
   "execution_count": 13,
   "metadata": {},
   "outputs": [
    {
     "ename": "FileNotFoundError",
     "evalue": "[Errno 2] No such file or directory: 'data/tmp/전체연령_출생인구2.csv'",
     "output_type": "error",
     "traceback": [
      "\u001b[1;31m---------------------------------------------------------------------------\u001b[0m",
      "\u001b[1;31mFileNotFoundError\u001b[0m                         Traceback (most recent call last)",
      "Cell \u001b[1;32mIn[13], line 3\u001b[0m\n\u001b[0;32m      1\u001b[0m \u001b[39m### 파일 저장하고 다시 불러오기\u001b[39;00m\n\u001b[0;32m      2\u001b[0m df_ab\u001b[39m.\u001b[39mto_csv(\u001b[39m'\u001b[39m\u001b[39mdata/tmp/전체연령_출생인구2\u001b[39m\u001b[39m'\u001b[39m)\n\u001b[1;32m----> 3\u001b[0m df_ab \u001b[39m=\u001b[39m pd\u001b[39m.\u001b[39;49mread_csv(\u001b[39m'\u001b[39;49m\u001b[39mdata/tmp/전체연령_출생인구2.csv\u001b[39;49m\u001b[39m'\u001b[39;49m, encoding\u001b[39m=\u001b[39;49m\u001b[39m'\u001b[39;49m\u001b[39mutf-8\u001b[39;49m\u001b[39m'\u001b[39;49m, sep\u001b[39m=\u001b[39;49m\u001b[39m'\u001b[39;49m\u001b[39m,\u001b[39;49m\u001b[39m'\u001b[39;49m)\n\u001b[0;32m      4\u001b[0m df_ab\u001b[39m.\u001b[39mhead(\u001b[39m3\u001b[39m)\n",
      "File \u001b[1;32mc:\\Users\\YONSAI\\anaconda3\\lib\\site-packages\\pandas\\io\\parsers\\readers.py:912\u001b[0m, in \u001b[0;36mread_csv\u001b[1;34m(filepath_or_buffer, sep, delimiter, header, names, index_col, usecols, dtype, engine, converters, true_values, false_values, skipinitialspace, skiprows, skipfooter, nrows, na_values, keep_default_na, na_filter, verbose, skip_blank_lines, parse_dates, infer_datetime_format, keep_date_col, date_parser, date_format, dayfirst, cache_dates, iterator, chunksize, compression, thousands, decimal, lineterminator, quotechar, quoting, doublequote, escapechar, comment, encoding, encoding_errors, dialect, on_bad_lines, delim_whitespace, low_memory, memory_map, float_precision, storage_options, dtype_backend)\u001b[0m\n\u001b[0;32m    899\u001b[0m kwds_defaults \u001b[39m=\u001b[39m _refine_defaults_read(\n\u001b[0;32m    900\u001b[0m     dialect,\n\u001b[0;32m    901\u001b[0m     delimiter,\n\u001b[1;32m   (...)\u001b[0m\n\u001b[0;32m    908\u001b[0m     dtype_backend\u001b[39m=\u001b[39mdtype_backend,\n\u001b[0;32m    909\u001b[0m )\n\u001b[0;32m    910\u001b[0m kwds\u001b[39m.\u001b[39mupdate(kwds_defaults)\n\u001b[1;32m--> 912\u001b[0m \u001b[39mreturn\u001b[39;00m _read(filepath_or_buffer, kwds)\n",
      "File \u001b[1;32mc:\\Users\\YONSAI\\anaconda3\\lib\\site-packages\\pandas\\io\\parsers\\readers.py:577\u001b[0m, in \u001b[0;36m_read\u001b[1;34m(filepath_or_buffer, kwds)\u001b[0m\n\u001b[0;32m    574\u001b[0m _validate_names(kwds\u001b[39m.\u001b[39mget(\u001b[39m\"\u001b[39m\u001b[39mnames\u001b[39m\u001b[39m\"\u001b[39m, \u001b[39mNone\u001b[39;00m))\n\u001b[0;32m    576\u001b[0m \u001b[39m# Create the parser.\u001b[39;00m\n\u001b[1;32m--> 577\u001b[0m parser \u001b[39m=\u001b[39m TextFileReader(filepath_or_buffer, \u001b[39m*\u001b[39m\u001b[39m*\u001b[39mkwds)\n\u001b[0;32m    579\u001b[0m \u001b[39mif\u001b[39;00m chunksize \u001b[39mor\u001b[39;00m iterator:\n\u001b[0;32m    580\u001b[0m     \u001b[39mreturn\u001b[39;00m parser\n",
      "File \u001b[1;32mc:\\Users\\YONSAI\\anaconda3\\lib\\site-packages\\pandas\\io\\parsers\\readers.py:1407\u001b[0m, in \u001b[0;36mTextFileReader.__init__\u001b[1;34m(self, f, engine, **kwds)\u001b[0m\n\u001b[0;32m   1404\u001b[0m     \u001b[39mself\u001b[39m\u001b[39m.\u001b[39moptions[\u001b[39m\"\u001b[39m\u001b[39mhas_index_names\u001b[39m\u001b[39m\"\u001b[39m] \u001b[39m=\u001b[39m kwds[\u001b[39m\"\u001b[39m\u001b[39mhas_index_names\u001b[39m\u001b[39m\"\u001b[39m]\n\u001b[0;32m   1406\u001b[0m \u001b[39mself\u001b[39m\u001b[39m.\u001b[39mhandles: IOHandles \u001b[39m|\u001b[39m \u001b[39mNone\u001b[39;00m \u001b[39m=\u001b[39m \u001b[39mNone\u001b[39;00m\n\u001b[1;32m-> 1407\u001b[0m \u001b[39mself\u001b[39m\u001b[39m.\u001b[39m_engine \u001b[39m=\u001b[39m \u001b[39mself\u001b[39;49m\u001b[39m.\u001b[39;49m_make_engine(f, \u001b[39mself\u001b[39;49m\u001b[39m.\u001b[39;49mengine)\n",
      "File \u001b[1;32mc:\\Users\\YONSAI\\anaconda3\\lib\\site-packages\\pandas\\io\\parsers\\readers.py:1661\u001b[0m, in \u001b[0;36mTextFileReader._make_engine\u001b[1;34m(self, f, engine)\u001b[0m\n\u001b[0;32m   1659\u001b[0m     \u001b[39mif\u001b[39;00m \u001b[39m\"\u001b[39m\u001b[39mb\u001b[39m\u001b[39m\"\u001b[39m \u001b[39mnot\u001b[39;00m \u001b[39min\u001b[39;00m mode:\n\u001b[0;32m   1660\u001b[0m         mode \u001b[39m+\u001b[39m\u001b[39m=\u001b[39m \u001b[39m\"\u001b[39m\u001b[39mb\u001b[39m\u001b[39m\"\u001b[39m\n\u001b[1;32m-> 1661\u001b[0m \u001b[39mself\u001b[39m\u001b[39m.\u001b[39mhandles \u001b[39m=\u001b[39m get_handle(\n\u001b[0;32m   1662\u001b[0m     f,\n\u001b[0;32m   1663\u001b[0m     mode,\n\u001b[0;32m   1664\u001b[0m     encoding\u001b[39m=\u001b[39;49m\u001b[39mself\u001b[39;49m\u001b[39m.\u001b[39;49moptions\u001b[39m.\u001b[39;49mget(\u001b[39m\"\u001b[39;49m\u001b[39mencoding\u001b[39;49m\u001b[39m\"\u001b[39;49m, \u001b[39mNone\u001b[39;49;00m),\n\u001b[0;32m   1665\u001b[0m     compression\u001b[39m=\u001b[39;49m\u001b[39mself\u001b[39;49m\u001b[39m.\u001b[39;49moptions\u001b[39m.\u001b[39;49mget(\u001b[39m\"\u001b[39;49m\u001b[39mcompression\u001b[39;49m\u001b[39m\"\u001b[39;49m, \u001b[39mNone\u001b[39;49;00m),\n\u001b[0;32m   1666\u001b[0m     memory_map\u001b[39m=\u001b[39;49m\u001b[39mself\u001b[39;49m\u001b[39m.\u001b[39;49moptions\u001b[39m.\u001b[39;49mget(\u001b[39m\"\u001b[39;49m\u001b[39mmemory_map\u001b[39;49m\u001b[39m\"\u001b[39;49m, \u001b[39mFalse\u001b[39;49;00m),\n\u001b[0;32m   1667\u001b[0m     is_text\u001b[39m=\u001b[39;49mis_text,\n\u001b[0;32m   1668\u001b[0m     errors\u001b[39m=\u001b[39;49m\u001b[39mself\u001b[39;49m\u001b[39m.\u001b[39;49moptions\u001b[39m.\u001b[39;49mget(\u001b[39m\"\u001b[39;49m\u001b[39mencoding_errors\u001b[39;49m\u001b[39m\"\u001b[39;49m, \u001b[39m\"\u001b[39;49m\u001b[39mstrict\u001b[39;49m\u001b[39m\"\u001b[39;49m),\n\u001b[0;32m   1669\u001b[0m     storage_options\u001b[39m=\u001b[39;49m\u001b[39mself\u001b[39;49m\u001b[39m.\u001b[39;49moptions\u001b[39m.\u001b[39;49mget(\u001b[39m\"\u001b[39;49m\u001b[39mstorage_options\u001b[39;49m\u001b[39m\"\u001b[39;49m, \u001b[39mNone\u001b[39;49;00m),\n\u001b[0;32m   1670\u001b[0m )\n\u001b[0;32m   1671\u001b[0m \u001b[39massert\u001b[39;00m \u001b[39mself\u001b[39m\u001b[39m.\u001b[39mhandles \u001b[39mis\u001b[39;00m \u001b[39mnot\u001b[39;00m \u001b[39mNone\u001b[39;00m\n\u001b[0;32m   1672\u001b[0m f \u001b[39m=\u001b[39m \u001b[39mself\u001b[39m\u001b[39m.\u001b[39mhandles\u001b[39m.\u001b[39mhandle\n",
      "File \u001b[1;32mc:\\Users\\YONSAI\\anaconda3\\lib\\site-packages\\pandas\\io\\common.py:868\u001b[0m, in \u001b[0;36mget_handle\u001b[1;34m(path_or_buf, mode, encoding, compression, memory_map, is_text, errors, storage_options)\u001b[0m\n\u001b[0;32m    859\u001b[0m         handle \u001b[39m=\u001b[39m \u001b[39mopen\u001b[39m(\n\u001b[0;32m    860\u001b[0m             handle,\n\u001b[0;32m    861\u001b[0m             ioargs\u001b[39m.\u001b[39mmode,\n\u001b[1;32m   (...)\u001b[0m\n\u001b[0;32m    864\u001b[0m             newline\u001b[39m=\u001b[39m\u001b[39m\"\u001b[39m\u001b[39m\"\u001b[39m,\n\u001b[0;32m    865\u001b[0m         )\n\u001b[0;32m    866\u001b[0m     \u001b[39melse\u001b[39;00m:\n\u001b[0;32m    867\u001b[0m         \u001b[39m# Binary mode\u001b[39;00m\n\u001b[1;32m--> 868\u001b[0m         handle \u001b[39m=\u001b[39m \u001b[39mopen\u001b[39;49m(handle, ioargs\u001b[39m.\u001b[39;49mmode)\n\u001b[0;32m    869\u001b[0m     handles\u001b[39m.\u001b[39mappend(handle)\n\u001b[0;32m    871\u001b[0m \u001b[39m# Convert BytesIO or file objects passed with an encoding\u001b[39;00m\n",
      "\u001b[1;31mFileNotFoundError\u001b[0m: [Errno 2] No such file or directory: 'data/tmp/전체연령_출생인구2.csv'"
     ]
    }
   ],
   "source": [
    "### 파일 저장하고 다시 불러오기\n",
    "df_ab.to_csv('data/tmp/전체연령_출생인구2')\n",
    "df_ab = pd.read_csv('data/tmp/전체연령_출생인구2.csv', encoding='utf-8', sep=',')\n",
    "df_ab.head(3)"
   ]
  },
  {
   "cell_type": "code",
   "execution_count": 48,
   "metadata": {},
   "outputs": [
    {
     "ename": "ValueError",
     "evalue": "invalid literal for int() with base 10: '서울특별시  (1100000000)'",
     "output_type": "error",
     "traceback": [
      "\u001b[1;31m---------------------------------------------------------------------------\u001b[0m",
      "\u001b[1;31mValueError\u001b[0m                                Traceback (most recent call last)",
      "Cell \u001b[1;32mIn[48], line 1\u001b[0m\n\u001b[1;32m----> 1\u001b[0m df_ab\u001b[39m=\u001b[39m df_ab\u001b[39m.\u001b[39;49mastype(\u001b[39m'\u001b[39;49m\u001b[39mint\u001b[39;49m\u001b[39m'\u001b[39;49m)\n\u001b[0;32m      2\u001b[0m \u001b[39m# df_ab.iloc[0]\u001b[39;00m\n",
      "File \u001b[1;32mc:\\Users\\YONSAI\\anaconda3\\lib\\site-packages\\pandas\\core\\generic.py:6324\u001b[0m, in \u001b[0;36mNDFrame.astype\u001b[1;34m(self, dtype, copy, errors)\u001b[0m\n\u001b[0;32m   6317\u001b[0m     results \u001b[39m=\u001b[39m [\n\u001b[0;32m   6318\u001b[0m         \u001b[39mself\u001b[39m\u001b[39m.\u001b[39miloc[:, i]\u001b[39m.\u001b[39mastype(dtype, copy\u001b[39m=\u001b[39mcopy)\n\u001b[0;32m   6319\u001b[0m         \u001b[39mfor\u001b[39;00m i \u001b[39min\u001b[39;00m \u001b[39mrange\u001b[39m(\u001b[39mlen\u001b[39m(\u001b[39mself\u001b[39m\u001b[39m.\u001b[39mcolumns))\n\u001b[0;32m   6320\u001b[0m     ]\n\u001b[0;32m   6322\u001b[0m \u001b[39melse\u001b[39;00m:\n\u001b[0;32m   6323\u001b[0m     \u001b[39m# else, only a single dtype is given\u001b[39;00m\n\u001b[1;32m-> 6324\u001b[0m     new_data \u001b[39m=\u001b[39m \u001b[39mself\u001b[39;49m\u001b[39m.\u001b[39;49m_mgr\u001b[39m.\u001b[39;49mastype(dtype\u001b[39m=\u001b[39;49mdtype, copy\u001b[39m=\u001b[39;49mcopy, errors\u001b[39m=\u001b[39;49merrors)\n\u001b[0;32m   6325\u001b[0m     \u001b[39mreturn\u001b[39;00m \u001b[39mself\u001b[39m\u001b[39m.\u001b[39m_constructor(new_data)\u001b[39m.\u001b[39m__finalize__(\u001b[39mself\u001b[39m, method\u001b[39m=\u001b[39m\u001b[39m\"\u001b[39m\u001b[39mastype\u001b[39m\u001b[39m\"\u001b[39m)\n\u001b[0;32m   6327\u001b[0m \u001b[39m# GH 33113: handle empty frame or series\u001b[39;00m\n",
      "File \u001b[1;32mc:\\Users\\YONSAI\\anaconda3\\lib\\site-packages\\pandas\\core\\internals\\managers.py:451\u001b[0m, in \u001b[0;36mBaseBlockManager.astype\u001b[1;34m(self, dtype, copy, errors)\u001b[0m\n\u001b[0;32m    448\u001b[0m \u001b[39melif\u001b[39;00m using_copy_on_write():\n\u001b[0;32m    449\u001b[0m     copy \u001b[39m=\u001b[39m \u001b[39mFalse\u001b[39;00m\n\u001b[1;32m--> 451\u001b[0m \u001b[39mreturn\u001b[39;00m \u001b[39mself\u001b[39;49m\u001b[39m.\u001b[39;49mapply(\n\u001b[0;32m    452\u001b[0m     \u001b[39m\"\u001b[39;49m\u001b[39mastype\u001b[39;49m\u001b[39m\"\u001b[39;49m,\n\u001b[0;32m    453\u001b[0m     dtype\u001b[39m=\u001b[39;49mdtype,\n\u001b[0;32m    454\u001b[0m     copy\u001b[39m=\u001b[39;49mcopy,\n\u001b[0;32m    455\u001b[0m     errors\u001b[39m=\u001b[39;49merrors,\n\u001b[0;32m    456\u001b[0m     using_cow\u001b[39m=\u001b[39;49musing_copy_on_write(),\n\u001b[0;32m    457\u001b[0m )\n",
      "File \u001b[1;32mc:\\Users\\YONSAI\\anaconda3\\lib\\site-packages\\pandas\\core\\internals\\managers.py:352\u001b[0m, in \u001b[0;36mBaseBlockManager.apply\u001b[1;34m(self, f, align_keys, **kwargs)\u001b[0m\n\u001b[0;32m    350\u001b[0m         applied \u001b[39m=\u001b[39m b\u001b[39m.\u001b[39mapply(f, \u001b[39m*\u001b[39m\u001b[39m*\u001b[39mkwargs)\n\u001b[0;32m    351\u001b[0m     \u001b[39melse\u001b[39;00m:\n\u001b[1;32m--> 352\u001b[0m         applied \u001b[39m=\u001b[39m \u001b[39mgetattr\u001b[39m(b, f)(\u001b[39m*\u001b[39m\u001b[39m*\u001b[39mkwargs)\n\u001b[0;32m    353\u001b[0m     result_blocks \u001b[39m=\u001b[39m extend_blocks(applied, result_blocks)\n\u001b[0;32m    355\u001b[0m out \u001b[39m=\u001b[39m \u001b[39mtype\u001b[39m(\u001b[39mself\u001b[39m)\u001b[39m.\u001b[39mfrom_blocks(result_blocks, \u001b[39mself\u001b[39m\u001b[39m.\u001b[39maxes)\n",
      "File \u001b[1;32mc:\\Users\\YONSAI\\anaconda3\\lib\\site-packages\\pandas\\core\\internals\\blocks.py:511\u001b[0m, in \u001b[0;36mBlock.astype\u001b[1;34m(self, dtype, copy, errors, using_cow)\u001b[0m\n\u001b[0;32m    491\u001b[0m \u001b[39m\u001b[39m\u001b[39m\"\"\"\u001b[39;00m\n\u001b[0;32m    492\u001b[0m \u001b[39mCoerce to the new dtype.\u001b[39;00m\n\u001b[0;32m    493\u001b[0m \n\u001b[1;32m   (...)\u001b[0m\n\u001b[0;32m    507\u001b[0m \u001b[39mBlock\u001b[39;00m\n\u001b[0;32m    508\u001b[0m \u001b[39m\"\"\"\u001b[39;00m\n\u001b[0;32m    509\u001b[0m values \u001b[39m=\u001b[39m \u001b[39mself\u001b[39m\u001b[39m.\u001b[39mvalues\n\u001b[1;32m--> 511\u001b[0m new_values \u001b[39m=\u001b[39m astype_array_safe(values, dtype, copy\u001b[39m=\u001b[39;49mcopy, errors\u001b[39m=\u001b[39;49merrors)\n\u001b[0;32m    513\u001b[0m new_values \u001b[39m=\u001b[39m maybe_coerce_values(new_values)\n\u001b[0;32m    515\u001b[0m refs \u001b[39m=\u001b[39m \u001b[39mNone\u001b[39;00m\n",
      "File \u001b[1;32mc:\\Users\\YONSAI\\anaconda3\\lib\\site-packages\\pandas\\core\\dtypes\\astype.py:242\u001b[0m, in \u001b[0;36mastype_array_safe\u001b[1;34m(values, dtype, copy, errors)\u001b[0m\n\u001b[0;32m    239\u001b[0m     dtype \u001b[39m=\u001b[39m dtype\u001b[39m.\u001b[39mnumpy_dtype\n\u001b[0;32m    241\u001b[0m \u001b[39mtry\u001b[39;00m:\n\u001b[1;32m--> 242\u001b[0m     new_values \u001b[39m=\u001b[39m astype_array(values, dtype, copy\u001b[39m=\u001b[39;49mcopy)\n\u001b[0;32m    243\u001b[0m \u001b[39mexcept\u001b[39;00m (\u001b[39mValueError\u001b[39;00m, \u001b[39mTypeError\u001b[39;00m):\n\u001b[0;32m    244\u001b[0m     \u001b[39m# e.g. _astype_nansafe can fail on object-dtype of strings\u001b[39;00m\n\u001b[0;32m    245\u001b[0m     \u001b[39m#  trying to convert to float\u001b[39;00m\n\u001b[0;32m    246\u001b[0m     \u001b[39mif\u001b[39;00m errors \u001b[39m==\u001b[39m \u001b[39m\"\u001b[39m\u001b[39mignore\u001b[39m\u001b[39m\"\u001b[39m:\n",
      "File \u001b[1;32mc:\\Users\\YONSAI\\anaconda3\\lib\\site-packages\\pandas\\core\\dtypes\\astype.py:187\u001b[0m, in \u001b[0;36mastype_array\u001b[1;34m(values, dtype, copy)\u001b[0m\n\u001b[0;32m    184\u001b[0m     values \u001b[39m=\u001b[39m values\u001b[39m.\u001b[39mastype(dtype, copy\u001b[39m=\u001b[39mcopy)\n\u001b[0;32m    186\u001b[0m \u001b[39melse\u001b[39;00m:\n\u001b[1;32m--> 187\u001b[0m     values \u001b[39m=\u001b[39m _astype_nansafe(values, dtype, copy\u001b[39m=\u001b[39;49mcopy)\n\u001b[0;32m    189\u001b[0m \u001b[39m# in pandas we don't store numpy str dtypes, so convert to object\u001b[39;00m\n\u001b[0;32m    190\u001b[0m \u001b[39mif\u001b[39;00m \u001b[39misinstance\u001b[39m(dtype, np\u001b[39m.\u001b[39mdtype) \u001b[39mand\u001b[39;00m \u001b[39missubclass\u001b[39m(values\u001b[39m.\u001b[39mdtype\u001b[39m.\u001b[39mtype, \u001b[39mstr\u001b[39m):\n",
      "File \u001b[1;32mc:\\Users\\YONSAI\\anaconda3\\lib\\site-packages\\pandas\\core\\dtypes\\astype.py:138\u001b[0m, in \u001b[0;36m_astype_nansafe\u001b[1;34m(arr, dtype, copy, skipna)\u001b[0m\n\u001b[0;32m    134\u001b[0m     \u001b[39mraise\u001b[39;00m \u001b[39mValueError\u001b[39;00m(msg)\n\u001b[0;32m    136\u001b[0m \u001b[39mif\u001b[39;00m copy \u001b[39mor\u001b[39;00m is_object_dtype(arr\u001b[39m.\u001b[39mdtype) \u001b[39mor\u001b[39;00m is_object_dtype(dtype):\n\u001b[0;32m    137\u001b[0m     \u001b[39m# Explicit copy, or required since NumPy can't view from / to object.\u001b[39;00m\n\u001b[1;32m--> 138\u001b[0m     \u001b[39mreturn\u001b[39;00m arr\u001b[39m.\u001b[39;49mastype(dtype, copy\u001b[39m=\u001b[39;49m\u001b[39mTrue\u001b[39;49;00m)\n\u001b[0;32m    140\u001b[0m \u001b[39mreturn\u001b[39;00m arr\u001b[39m.\u001b[39mastype(dtype, copy\u001b[39m=\u001b[39mcopy)\n",
      "\u001b[1;31mValueError\u001b[0m: invalid literal for int() with base 10: '서울특별시  (1100000000)'"
     ]
    }
   ],
   "source": [
    "df_ab= df_ab.astype('int')\n",
    "# df_ab.iloc[0]"
   ]
  },
  {
   "cell_type": "code",
   "execution_count": null,
   "metadata": {},
   "outputs": [],
   "source": [
    "########### 최종파일에서 해야할 것 메모 ############\n",
    "# 행정구역이 전국인 행 삭제하기\n",
    "# NaN값 처리하기"
   ]
  },
  {
   "cell_type": "code",
   "execution_count": 25,
   "metadata": {},
   "outputs": [
    {
     "data": {
      "text/html": [
       "<div>\n",
       "<style scoped>\n",
       "    .dataframe tbody tr th:only-of-type {\n",
       "        vertical-align: middle;\n",
       "    }\n",
       "\n",
       "    .dataframe tbody tr th {\n",
       "        vertical-align: top;\n",
       "    }\n",
       "\n",
       "    .dataframe thead th {\n",
       "        text-align: right;\n",
       "    }\n",
       "</style>\n",
       "<table border=\"1\" class=\"dataframe\">\n",
       "  <thead>\n",
       "    <tr style=\"text-align: right;\">\n",
       "      <th></th>\n",
       "      <th>행정구역</th>\n",
       "      <th>총인구수</th>\n",
       "      <th>0~9세</th>\n",
       "      <th>10~19세</th>\n",
       "      <th>20~29세</th>\n",
       "      <th>30~39세</th>\n",
       "      <th>40~49세</th>\n",
       "      <th>50~59세</th>\n",
       "      <th>60~69세</th>\n",
       "      <th>70~79세</th>\n",
       "      <th>80~89세</th>\n",
       "      <th>90~99세</th>\n",
       "      <th>100세 이상</th>\n",
       "      <th>평균연령</th>\n",
       "      <th>출생인구</th>\n",
       "    </tr>\n",
       "  </thead>\n",
       "  <tbody>\n",
       "    <tr>\n",
       "      <th>3877</th>\n",
       "      <td>전국  (1000000000)</td>\n",
       "      <td>NaN</td>\n",
       "      <td>NaN</td>\n",
       "      <td>NaN</td>\n",
       "      <td>NaN</td>\n",
       "      <td>NaN</td>\n",
       "      <td>NaN</td>\n",
       "      <td>NaN</td>\n",
       "      <td>NaN</td>\n",
       "      <td>NaN</td>\n",
       "      <td>NaN</td>\n",
       "      <td>NaN</td>\n",
       "      <td>NaN</td>\n",
       "      <td>44.5</td>\n",
       "      <td>20,397</td>\n",
       "    </tr>\n",
       "  </tbody>\n",
       "</table>\n",
       "</div>"
      ],
      "text/plain": [
       "                  행정구역 총인구수 0~9세 10~19세 20~29세 30~39세 40~49세 50~59세 60~69세   \n",
       "3877  전국  (1000000000)  NaN  NaN    NaN    NaN    NaN    NaN    NaN    NaN  \\\n",
       "\n",
       "     70~79세 80~89세 90~99세 100세 이상  평균연령    출생인구  \n",
       "3877    NaN    NaN    NaN     NaN  44.5  20,397  "
      ]
     },
     "execution_count": 25,
     "metadata": {},
     "output_type": "execute_result"
    }
   ],
   "source": [
    "# df_ab[df_ab['행정구역']] == '전국'\n",
    "df_ab[df_ab['행정구역'].str.contains('전국')]"
   ]
  },
  {
   "cell_type": "code",
   "execution_count": null,
   "metadata": {},
   "outputs": [],
   "source": []
  }
 ],
 "metadata": {
  "kernelspec": {
   "display_name": "base",
   "language": "python",
   "name": "python3"
  },
  "language_info": {
   "codemirror_mode": {
    "name": "ipython",
    "version": 3
   },
   "file_extension": ".py",
   "mimetype": "text/x-python",
   "name": "python",
   "nbconvert_exporter": "python",
   "pygments_lexer": "ipython3",
   "version": "3.10.10"
  },
  "orig_nbformat": 4
 },
 "nbformat": 4,
 "nbformat_minor": 2
}
