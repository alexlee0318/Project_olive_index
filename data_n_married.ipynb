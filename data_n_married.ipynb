{
 "cells": [
  {
   "cell_type": "code",
   "execution_count": 2,
   "metadata": {},
   "outputs": [],
   "source": [
    "#########################################\n"
   ]
  },
  {
   "cell_type": "code",
   "execution_count": 1,
   "metadata": {},
   "outputs": [],
   "source": [
    "import pandas as pd\n",
    "import numpy as np\n",
    "import platform\n",
    "import matplotlib.pyplot as plt\n",
    "\n",
    "%matplotlib inline"
   ]
  },
  {
   "cell_type": "code",
   "execution_count": 8,
   "metadata": {},
   "outputs": [
    {
     "data": {
      "text/html": [
       "<div>\n",
       "<style scoped>\n",
       "    .dataframe tbody tr th:only-of-type {\n",
       "        vertical-align: middle;\n",
       "    }\n",
       "\n",
       "    .dataframe tbody tr th {\n",
       "        vertical-align: top;\n",
       "    }\n",
       "\n",
       "    .dataframe thead th {\n",
       "        text-align: right;\n",
       "    }\n",
       "</style>\n",
       "<table border=\"1\" class=\"dataframe\">\n",
       "  <thead>\n",
       "    <tr style=\"text-align: right;\">\n",
       "      <th></th>\n",
       "      <th>행정구역별(1)</th>\n",
       "      <th>행정구역별(2)</th>\n",
       "      <th>2017</th>\n",
       "      <th>2017.1</th>\n",
       "      <th>2017.2</th>\n",
       "      <th>2018</th>\n",
       "      <th>2018.1</th>\n",
       "      <th>2018.2</th>\n",
       "      <th>2019</th>\n",
       "      <th>2019.1</th>\n",
       "      <th>2019.2</th>\n",
       "      <th>2020</th>\n",
       "      <th>2020.1</th>\n",
       "      <th>2020.2</th>\n",
       "      <th>2021</th>\n",
       "      <th>2021.1</th>\n",
       "      <th>2021.2</th>\n",
       "    </tr>\n",
       "  </thead>\n",
       "  <tbody>\n",
       "    <tr>\n",
       "      <th>275</th>\n",
       "      <td>경상남도</td>\n",
       "      <td>거창군</td>\n",
       "      <td>801</td>\n",
       "      <td>-45</td>\n",
       "      <td>-5.3</td>\n",
       "      <td>724</td>\n",
       "      <td>-77</td>\n",
       "      <td>-9.6</td>\n",
       "      <td>671</td>\n",
       "      <td>-53</td>\n",
       "      <td>-7.3</td>\n",
       "      <td>629</td>\n",
       "      <td>-42</td>\n",
       "      <td>-6.3</td>\n",
       "      <td>573</td>\n",
       "      <td>-56</td>\n",
       "      <td>-8.9</td>\n",
       "    </tr>\n",
       "    <tr>\n",
       "      <th>276</th>\n",
       "      <td>경상남도</td>\n",
       "      <td>합천군</td>\n",
       "      <td>393</td>\n",
       "      <td>-15</td>\n",
       "      <td>-3.7</td>\n",
       "      <td>342</td>\n",
       "      <td>-51</td>\n",
       "      <td>-13.0</td>\n",
       "      <td>321</td>\n",
       "      <td>-21</td>\n",
       "      <td>-6.1</td>\n",
       "      <td>306</td>\n",
       "      <td>-15</td>\n",
       "      <td>-4.7</td>\n",
       "      <td>251</td>\n",
       "      <td>-55</td>\n",
       "      <td>-18.0</td>\n",
       "    </tr>\n",
       "    <tr>\n",
       "      <th>277</th>\n",
       "      <td>제주특별자치도</td>\n",
       "      <td>소계</td>\n",
       "      <td>13552</td>\n",
       "      <td>-11</td>\n",
       "      <td>-0.1</td>\n",
       "      <td>13280</td>\n",
       "      <td>-272</td>\n",
       "      <td>-2.0</td>\n",
       "      <td>12656</td>\n",
       "      <td>-624</td>\n",
       "      <td>-4.7</td>\n",
       "      <td>12037</td>\n",
       "      <td>-619</td>\n",
       "      <td>-4.9</td>\n",
       "      <td>11256</td>\n",
       "      <td>-781</td>\n",
       "      <td>-6.5</td>\n",
       "    </tr>\n",
       "    <tr>\n",
       "      <th>278</th>\n",
       "      <td>제주특별자치도</td>\n",
       "      <td>제주시</td>\n",
       "      <td>10383</td>\n",
       "      <td>-172</td>\n",
       "      <td>-1.6</td>\n",
       "      <td>10125</td>\n",
       "      <td>-258</td>\n",
       "      <td>-2.5</td>\n",
       "      <td>9635</td>\n",
       "      <td>-490</td>\n",
       "      <td>-4.8</td>\n",
       "      <td>9260</td>\n",
       "      <td>-375</td>\n",
       "      <td>-3.9</td>\n",
       "      <td>8648</td>\n",
       "      <td>-612</td>\n",
       "      <td>-6.6</td>\n",
       "    </tr>\n",
       "    <tr>\n",
       "      <th>279</th>\n",
       "      <td>제주특별자치도</td>\n",
       "      <td>서귀포시</td>\n",
       "      <td>3170</td>\n",
       "      <td>162</td>\n",
       "      <td>5.4</td>\n",
       "      <td>3156</td>\n",
       "      <td>-14</td>\n",
       "      <td>-0.4</td>\n",
       "      <td>3021</td>\n",
       "      <td>-135</td>\n",
       "      <td>-4.3</td>\n",
       "      <td>2777</td>\n",
       "      <td>-244</td>\n",
       "      <td>-8.1</td>\n",
       "      <td>2608</td>\n",
       "      <td>-169</td>\n",
       "      <td>-6.1</td>\n",
       "    </tr>\n",
       "  </tbody>\n",
       "</table>\n",
       "</div>"
      ],
      "text/plain": [
       "    행정구역별(1) 행정구역별(2)   2017 2017.1 2017.2   2018 2018.1 2018.2   2019 2019.1   \n",
       "275     경상남도      거창군    801    -45   -5.3    724    -77   -9.6    671    -53  \\\n",
       "276     경상남도      합천군    393    -15   -3.7    342    -51  -13.0    321    -21   \n",
       "277  제주특별자치도       소계  13552    -11   -0.1  13280   -272   -2.0  12656   -624   \n",
       "278  제주특별자치도      제주시  10383   -172   -1.6  10125   -258   -2.5   9635   -490   \n",
       "279  제주특별자치도     서귀포시   3170    162    5.4   3156    -14   -0.4   3021   -135   \n",
       "\n",
       "    2019.2   2020 2020.1 2020.2   2021 2021.1 2021.2  \n",
       "275   -7.3    629    -42   -6.3    573    -56   -8.9  \n",
       "276   -6.1    306    -15   -4.7    251    -55  -18.0  \n",
       "277   -4.7  12037   -619   -4.9  11256   -781   -6.5  \n",
       "278   -4.8   9260   -375   -3.9   8648   -612   -6.6  \n",
       "279   -4.3   2777   -244   -8.1   2608   -169   -6.1  "
      ]
     },
     "execution_count": 8,
     "metadata": {},
     "output_type": "execute_result"
    }
   ],
   "source": [
    "# 신혼부부 수\n",
    "df_n_married = pd.read_csv('data/origin/시군구별_초혼_신혼부부_수_20230623151753_분석(전년_대비_증감,증감률).csv', encoding='euc-kr', sep=',')\n",
    "df_n_married.head(1283).tail()"
   ]
  },
  {
   "cell_type": "code",
   "execution_count": 3,
   "metadata": {},
   "outputs": [
    {
     "data": {
      "text/plain": [
       "Index(['행정구역별(1)', '행정구역별(2)', '2017', '2017.1', '2017.2', '2018', '2018.1',\n",
       "       '2018.2', '2019', '2019.1', '2019.2', '2020', '2020.1', '2020.2',\n",
       "       '2021', '2021.1', '2021.2'],\n",
       "      dtype='object')"
      ]
     },
     "execution_count": 3,
     "metadata": {},
     "output_type": "execute_result"
    }
   ],
   "source": [
    "# 컬럼데이터 너무 크므로 cols변수에 넣음 -> 원본의 df_n_married_columns는 비파괴됨.\n",
    "cols = df_n_married.columns\n",
    "cols"
   ]
  },
  {
   "cell_type": "code",
   "execution_count": 4,
   "metadata": {},
   "outputs": [
    {
     "data": {
      "text/plain": [
       "(17, '.2', '2')"
      ]
     },
     "execution_count": 4,
     "metadata": {},
     "output_type": "execute_result"
    }
   ],
   "source": [
    "len(cols), cols[4][-2:], cols[4][0]"
   ]
  },
  {
   "attachments": {},
   "cell_type": "markdown",
   "metadata": {},
   "source": [
    "``` 첫번째 반복문 괄호묶음 잘못됨-> 출력결과 오류 ```"
   ]
  },
  {
   "cell_type": "code",
   "execution_count": null,
   "metadata": {},
   "outputs": [],
   "source": [
    "######  # 오류)증감수와 증감률의 구분없이 첫번째 조건문(신혼증감) 결과로 출력됨 #####\n",
    "# # cols = df_n_married.columns\n",
    "# col_list = []\n",
    "# for i in range((len(cols))):\n",
    "#     if (str(cols[i][-2]) == '.' and str(cols[i][-1] == '1')):\n",
    "#         col_list.append(f'{cols[i][2:4]}신혼증감')\n",
    "#     elif (str(cols[i][-2]) == '.' and str(cols[i][-1] == '2')):\n",
    "#         col_list.append(f'{cols[i][2:4]}신혼증감률')\n",
    "#     elif str(cols[i][-1]) == ')' :\n",
    "#         col_list.append(cols[i])\n",
    "#     else:\n",
    "#         col_list.append(f'{cols[i][2:4]}신혼 수')\n",
    "# col_list"
   ]
  },
  {
   "cell_type": "code",
   "execution_count": 5,
   "metadata": {},
   "outputs": [
    {
     "data": {
      "text/plain": [
       "['행정구역별(1)',\n",
       " '행정구역별(2)',\n",
       " '17신혼 수',\n",
       " '17신혼증감',\n",
       " '17신혼증감률',\n",
       " '18신혼 수',\n",
       " '18신혼증감',\n",
       " '18신혼증감률',\n",
       " '19신혼 수',\n",
       " '19신혼증감',\n",
       " '19신혼증감률',\n",
       " '20신혼 수',\n",
       " '20신혼증감',\n",
       " '20신혼증감률',\n",
       " '21신혼 수',\n",
       " '21신혼증감',\n",
       " '21신혼증감률']"
      ]
     },
     "execution_count": 5,
     "metadata": {},
     "output_type": "execute_result"
    }
   ],
   "source": [
    "# 수정된 반복문 #############\n",
    "# # cols = df_n_married.columns\n",
    "col_list = []\n",
    "for i in range((len(cols))):     # cols = df_n_married.columns\n",
    "    if (cols[i][4:6] == str('.2') and cols[i][4:6] != str('.1')):\n",
    "        col_list.append(f'{cols[i][2:4]}신혼증감률')\n",
    "    elif (cols[i][4:6] == '.1' and cols[i][4:6] != '.2'):\n",
    "        col_list.append(f'{cols[i][2:4]}신혼증감')\n",
    "    elif cols[i][-1] == ')' :       # 행정구역 행은 그대로 살림\n",
    "        col_list.append(cols[i])\n",
    "    else:\n",
    "        col_list.append(f'{cols[i][2:4]}신혼 수')\n",
    "col_list"
   ]
  },
  {
   "cell_type": "code",
   "execution_count": 6,
   "metadata": {},
   "outputs": [
    {
     "data": {
      "text/plain": [
       "Index(['행정구역별(1)', '행정구역별(2)', '2017', '2017.1', '2017.2', '2018', '2018.1',\n",
       "       '2018.2', '2019', '2019.1', '2019.2', '2020', '2020.1', '2020.2',\n",
       "       '2021', '2021.1', '2021.2'],\n",
       "      dtype='object')"
      ]
     },
     "execution_count": 6,
     "metadata": {},
     "output_type": "execute_result"
    }
   ],
   "source": [
    "cols = df_n_married.columns    # 반복문에 사용한 변수 cols\n",
    "cols = col_list             # cols에 반복문 결과값 col_list 넣어보기\n",
    "df_n_married.columns   # cols만 바뀐 것-> df_n_married.columns에 반영안되어있음"
   ]
  },
  {
   "cell_type": "code",
   "execution_count": 7,
   "metadata": {},
   "outputs": [
    {
     "data": {
      "text/plain": [
       "Index(['행정구역별(1)', '행정구역별(2)', '17신혼 수', '17신혼증감', '17신혼증감률', '18신혼 수',\n",
       "       '18신혼증감', '18신혼증감률', '19신혼 수', '19신혼증감', '19신혼증감률', '20신혼 수', '20신혼증감',\n",
       "       '20신혼증감률', '21신혼 수', '21신혼증감', '21신혼증감률'],\n",
       "      dtype='object')"
      ]
     },
     "execution_count": 7,
     "metadata": {},
     "output_type": "execute_result"
    }
   ],
   "source": [
    "# 원본 데이터에 col_list 반영하기(변수 col에 넣으면 적용안됨)\n",
    "df_n_married.columns = col_list\n",
    "df_n_married.columns"
   ]
  },
  {
   "cell_type": "code",
   "execution_count": 8,
   "metadata": {},
   "outputs": [
    {
     "data": {
      "text/plain": [
       "0"
      ]
     },
     "execution_count": 8,
     "metadata": {},
     "output_type": "execute_result"
    }
   ],
   "source": [
    "df_n_married.isna().sum().sum()"
   ]
  },
  {
   "cell_type": "code",
   "execution_count": 9,
   "metadata": {},
   "outputs": [],
   "source": [
    "########### 파일 저장 ############\n",
    "df_n_married.to_csv('data/tmp/신혼부부.csv', index=False)"
   ]
  },
  {
   "cell_type": "code",
   "execution_count": 2,
   "metadata": {},
   "outputs": [
    {
     "data": {
      "text/html": [
       "<div>\n",
       "<style scoped>\n",
       "    .dataframe tbody tr th:only-of-type {\n",
       "        vertical-align: middle;\n",
       "    }\n",
       "\n",
       "    .dataframe tbody tr th {\n",
       "        vertical-align: top;\n",
       "    }\n",
       "\n",
       "    .dataframe thead th {\n",
       "        text-align: right;\n",
       "    }\n",
       "</style>\n",
       "<table border=\"1\" class=\"dataframe\">\n",
       "  <thead>\n",
       "    <tr style=\"text-align: right;\">\n",
       "      <th></th>\n",
       "      <th>행정구역별(1)</th>\n",
       "      <th>행정구역별(2)</th>\n",
       "      <th>17신혼 수</th>\n",
       "      <th>17신혼증감</th>\n",
       "      <th>17신혼증감률</th>\n",
       "      <th>18신혼 수</th>\n",
       "      <th>18신혼증감</th>\n",
       "      <th>18신혼증감률</th>\n",
       "      <th>19신혼 수</th>\n",
       "      <th>19신혼증감</th>\n",
       "      <th>19신혼증감률</th>\n",
       "      <th>20신혼 수</th>\n",
       "      <th>20신혼증감</th>\n",
       "      <th>20신혼증감률</th>\n",
       "      <th>21신혼 수</th>\n",
       "      <th>21신혼증감</th>\n",
       "      <th>21신혼증감률</th>\n",
       "    </tr>\n",
       "  </thead>\n",
       "  <tbody>\n",
       "    <tr>\n",
       "      <th>0</th>\n",
       "      <td>행정구역별(1)</td>\n",
       "      <td>행정구역별(2)</td>\n",
       "      <td>원데이터</td>\n",
       "      <td>전년 대비 증감</td>\n",
       "      <td>증감률</td>\n",
       "      <td>원데이터</td>\n",
       "      <td>전년 대비 증감</td>\n",
       "      <td>증감률</td>\n",
       "      <td>원데이터</td>\n",
       "      <td>전년 대비 증감</td>\n",
       "      <td>증감률</td>\n",
       "      <td>원데이터</td>\n",
       "      <td>전년 대비 증감</td>\n",
       "      <td>증감률</td>\n",
       "      <td>원데이터</td>\n",
       "      <td>전년 대비 증감</td>\n",
       "      <td>증감률</td>\n",
       "    </tr>\n",
       "    <tr>\n",
       "      <th>1</th>\n",
       "      <td>전국</td>\n",
       "      <td>소계</td>\n",
       "      <td>1103270</td>\n",
       "      <td>-47861</td>\n",
       "      <td>-4.2</td>\n",
       "      <td>1052352</td>\n",
       "      <td>-50918</td>\n",
       "      <td>-4.6</td>\n",
       "      <td>998365</td>\n",
       "      <td>-53987</td>\n",
       "      <td>-5.1</td>\n",
       "      <td>938080</td>\n",
       "      <td>-60285</td>\n",
       "      <td>-6.0</td>\n",
       "      <td>871428</td>\n",
       "      <td>-66652</td>\n",
       "      <td>-7.1</td>\n",
       "    </tr>\n",
       "    <tr>\n",
       "      <th>2</th>\n",
       "      <td>서울특별시</td>\n",
       "      <td>소계</td>\n",
       "      <td>225322</td>\n",
       "      <td>-12356</td>\n",
       "      <td>-5.2</td>\n",
       "      <td>211434</td>\n",
       "      <td>-13888</td>\n",
       "      <td>-6.2</td>\n",
       "      <td>199294</td>\n",
       "      <td>-12140</td>\n",
       "      <td>-5.7</td>\n",
       "      <td>188790</td>\n",
       "      <td>-10504</td>\n",
       "      <td>-5.3</td>\n",
       "      <td>172850</td>\n",
       "      <td>-15940</td>\n",
       "      <td>-8.4</td>\n",
       "    </tr>\n",
       "    <tr>\n",
       "      <th>3</th>\n",
       "      <td>서울특별시</td>\n",
       "      <td>종로구</td>\n",
       "      <td>2614</td>\n",
       "      <td>37</td>\n",
       "      <td>1.4</td>\n",
       "      <td>2601</td>\n",
       "      <td>-13</td>\n",
       "      <td>-0.5</td>\n",
       "      <td>2315</td>\n",
       "      <td>-286</td>\n",
       "      <td>-11.0</td>\n",
       "      <td>2089</td>\n",
       "      <td>-226</td>\n",
       "      <td>-9.8</td>\n",
       "      <td>1851</td>\n",
       "      <td>-238</td>\n",
       "      <td>-11.4</td>\n",
       "    </tr>\n",
       "    <tr>\n",
       "      <th>4</th>\n",
       "      <td>서울특별시</td>\n",
       "      <td>중구</td>\n",
       "      <td>2970</td>\n",
       "      <td>-41</td>\n",
       "      <td>-1.4</td>\n",
       "      <td>3003</td>\n",
       "      <td>33</td>\n",
       "      <td>1.1</td>\n",
       "      <td>2822</td>\n",
       "      <td>-181</td>\n",
       "      <td>-6.0</td>\n",
       "      <td>2698</td>\n",
       "      <td>-124</td>\n",
       "      <td>-4.4</td>\n",
       "      <td>2421</td>\n",
       "      <td>-277</td>\n",
       "      <td>-10.3</td>\n",
       "    </tr>\n",
       "  </tbody>\n",
       "</table>\n",
       "</div>"
      ],
      "text/plain": [
       "   행정구역별(1)  행정구역별(2)   17신혼 수    17신혼증감 17신혼증감률   18신혼 수    18신혼증감 18신혼증감률   \n",
       "0  행정구역별(1)  행정구역별(2)     원데이터  전년 대비 증감     증감률     원데이터  전년 대비 증감     증감률  \\\n",
       "1        전국        소계  1103270    -47861    -4.2  1052352    -50918    -4.6   \n",
       "2     서울특별시        소계   225322    -12356    -5.2   211434    -13888    -6.2   \n",
       "3     서울특별시       종로구     2614        37     1.4     2601       -13    -0.5   \n",
       "4     서울특별시        중구     2970       -41    -1.4     3003        33     1.1   \n",
       "\n",
       "   19신혼 수    19신혼증감 19신혼증감률  20신혼 수    20신혼증감 20신혼증감률  21신혼 수    21신혼증감   \n",
       "0    원데이터  전년 대비 증감     증감률    원데이터  전년 대비 증감     증감률    원데이터  전년 대비 증감  \\\n",
       "1  998365    -53987    -5.1  938080    -60285    -6.0  871428    -66652   \n",
       "2  199294    -12140    -5.7  188790    -10504    -5.3  172850    -15940   \n",
       "3    2315      -286   -11.0    2089      -226    -9.8    1851      -238   \n",
       "4    2822      -181    -6.0    2698      -124    -4.4    2421      -277   \n",
       "\n",
       "  21신혼증감률  \n",
       "0     증감률  \n",
       "1    -7.1  \n",
       "2    -8.4  \n",
       "3   -11.4  \n",
       "4   -10.3  "
      ]
     },
     "execution_count": 2,
     "metadata": {},
     "output_type": "execute_result"
    }
   ],
   "source": [
    "df = pd.read_csv('data/tmp/신혼부부.csv', encoding='utf-8', sep=',')\n",
    "df.head()"
   ]
  },
  {
   "cell_type": "code",
   "execution_count": 3,
   "metadata": {},
   "outputs": [
    {
     "data": {
      "text/html": [
       "<div>\n",
       "<style scoped>\n",
       "    .dataframe tbody tr th:only-of-type {\n",
       "        vertical-align: middle;\n",
       "    }\n",
       "\n",
       "    .dataframe tbody tr th {\n",
       "        vertical-align: top;\n",
       "    }\n",
       "\n",
       "    .dataframe thead th {\n",
       "        text-align: right;\n",
       "    }\n",
       "</style>\n",
       "<table border=\"1\" class=\"dataframe\">\n",
       "  <thead>\n",
       "    <tr style=\"text-align: right;\">\n",
       "      <th></th>\n",
       "      <th>행정구역별(1)</th>\n",
       "      <th>행정구역별(2)</th>\n",
       "      <th>21신혼 수</th>\n",
       "      <th>21신혼증감</th>\n",
       "      <th>21신혼증감률</th>\n",
       "    </tr>\n",
       "  </thead>\n",
       "  <tbody>\n",
       "    <tr>\n",
       "      <th>0</th>\n",
       "      <td>행정구역별(1)</td>\n",
       "      <td>행정구역별(2)</td>\n",
       "      <td>원데이터</td>\n",
       "      <td>전년 대비 증감</td>\n",
       "      <td>증감률</td>\n",
       "    </tr>\n",
       "    <tr>\n",
       "      <th>1</th>\n",
       "      <td>전국</td>\n",
       "      <td>소계</td>\n",
       "      <td>871428</td>\n",
       "      <td>-66652</td>\n",
       "      <td>-7.1</td>\n",
       "    </tr>\n",
       "    <tr>\n",
       "      <th>2</th>\n",
       "      <td>서울특별시</td>\n",
       "      <td>소계</td>\n",
       "      <td>172850</td>\n",
       "      <td>-15940</td>\n",
       "      <td>-8.4</td>\n",
       "    </tr>\n",
       "    <tr>\n",
       "      <th>3</th>\n",
       "      <td>서울특별시</td>\n",
       "      <td>종로구</td>\n",
       "      <td>1851</td>\n",
       "      <td>-238</td>\n",
       "      <td>-11.4</td>\n",
       "    </tr>\n",
       "    <tr>\n",
       "      <th>4</th>\n",
       "      <td>서울특별시</td>\n",
       "      <td>중구</td>\n",
       "      <td>2421</td>\n",
       "      <td>-277</td>\n",
       "      <td>-10.3</td>\n",
       "    </tr>\n",
       "  </tbody>\n",
       "</table>\n",
       "</div>"
      ],
      "text/plain": [
       "   행정구역별(1)  행정구역별(2)  21신혼 수    21신혼증감 21신혼증감률\n",
       "0  행정구역별(1)  행정구역별(2)    원데이터  전년 대비 증감     증감률\n",
       "1        전국        소계  871428    -66652    -7.1\n",
       "2     서울특별시        소계  172850    -15940    -8.4\n",
       "3     서울특별시       종로구    1851      -238   -11.4\n",
       "4     서울특별시        중구    2421      -277   -10.3"
      ]
     },
     "execution_count": 3,
     "metadata": {},
     "output_type": "execute_result"
    }
   ],
   "source": [
    "### 연도 선택하기\n",
    "df1 = df[['행정구역별(1)','행정구역별(2)','21신혼 수','21신혼증감','21신혼증감률']]\n",
    "df1.head()"
   ]
  },
  {
   "cell_type": "code",
   "execution_count": 4,
   "metadata": {},
   "outputs": [
    {
     "data": {
      "text/plain": [
       "0      행정구역별(1)\n",
       "1            전국\n",
       "2         서울특별시\n",
       "3         서울특별시\n",
       "4         서울특별시\n",
       "         ...   \n",
       "275        경상남도\n",
       "276        경상남도\n",
       "277     제주특별자치도\n",
       "278     제주특별자치도\n",
       "279     제주특별자치도\n",
       "Name: 행정구역별(1), Length: 280, dtype: object"
      ]
     },
     "execution_count": 4,
     "metadata": {},
     "output_type": "execute_result"
    }
   ],
   "source": [
    "df1['행정구역별(1)']"
   ]
  },
  {
   "cell_type": "code",
   "execution_count": 6,
   "metadata": {},
   "outputs": [
    {
     "data": {
      "text/plain": [
       "0      행정구역별(1) 행정구역별(2)\n",
       "1                  전국 소계\n",
       "2               서울특별시 소계\n",
       "3              서울특별시 종로구\n",
       "4               서울특별시 중구\n",
       "             ...        \n",
       "275             경상남도 거창군\n",
       "276             경상남도 합천군\n",
       "277           제주특별자치도 소계\n",
       "278          제주특별자치도 제주시\n",
       "279         제주특별자치도 서귀포시\n",
       "Name: 행정구역, Length: 280, dtype: object"
      ]
     },
     "execution_count": 6,
     "metadata": {},
     "output_type": "execute_result"
    }
   ],
   "source": [
    "# 행정구역별(1),(2) 열 합치기\n",
    "df1.loc[:,'행정구역'] = df1['행정구역별(1)'] + ' ' + df1['행정구역별(2)']\n",
    "df1['행정구역']"
   ]
  },
  {
   "cell_type": "code",
   "execution_count": 7,
   "metadata": {},
   "outputs": [
    {
     "data": {
      "text/html": [
       "<div>\n",
       "<style scoped>\n",
       "    .dataframe tbody tr th:only-of-type {\n",
       "        vertical-align: middle;\n",
       "    }\n",
       "\n",
       "    .dataframe tbody tr th {\n",
       "        vertical-align: top;\n",
       "    }\n",
       "\n",
       "    .dataframe thead th {\n",
       "        text-align: right;\n",
       "    }\n",
       "</style>\n",
       "<table border=\"1\" class=\"dataframe\">\n",
       "  <thead>\n",
       "    <tr style=\"text-align: right;\">\n",
       "      <th></th>\n",
       "      <th>행정구역</th>\n",
       "      <th>21신혼 수</th>\n",
       "      <th>21신혼증감</th>\n",
       "      <th>21신혼증감률</th>\n",
       "    </tr>\n",
       "  </thead>\n",
       "  <tbody>\n",
       "    <tr>\n",
       "      <th>1</th>\n",
       "      <td>전국 소계</td>\n",
       "      <td>871428</td>\n",
       "      <td>-66652</td>\n",
       "      <td>-7.1</td>\n",
       "    </tr>\n",
       "    <tr>\n",
       "      <th>2</th>\n",
       "      <td>서울특별시 소계</td>\n",
       "      <td>172850</td>\n",
       "      <td>-15940</td>\n",
       "      <td>-8.4</td>\n",
       "    </tr>\n",
       "  </tbody>\n",
       "</table>\n",
       "</div>"
      ],
      "text/plain": [
       "       행정구역  21신혼 수  21신혼증감 21신혼증감률\n",
       "1     전국 소계  871428  -66652    -7.1\n",
       "2  서울특별시 소계  172850  -15940    -8.4"
      ]
     },
     "execution_count": 7,
     "metadata": {},
     "output_type": "execute_result"
    }
   ],
   "source": [
    "df1.insert(2, '행정구역', df1.pop('행정구역'))  # 2열로 옮기고, 원래 위치에 있던 열은 삭제\n",
    "df2= df1.drop([0])  # index[0]번 행 삭제\n",
    "df2.drop(['행정구역별(1)', '행정구역별(2)'], axis=1, inplace=True)       # 열 두개 삭제\n",
    "df2.head(2)"
   ]
  },
  {
   "cell_type": "code",
   "execution_count": 8,
   "metadata": {},
   "outputs": [
    {
     "data": {
      "text/plain": [
       "['행정구역', '21신혼 수', '21신혼증감', '21신혼증감률']"
      ]
     },
     "execution_count": 8,
     "metadata": {},
     "output_type": "execute_result"
    }
   ],
   "source": [
    "## 열 이름 보기 쉽게 바꾸기\n",
    "df2.columns.tolist()"
   ]
  },
  {
   "cell_type": "code",
   "execution_count": 10,
   "metadata": {},
   "outputs": [
    {
     "data": {
      "text/plain": [
       "Index(['행정구역', '신혼수_21', '신혼증감_21', '신혼증감률_21'], dtype='object')"
      ]
     },
     "execution_count": 10,
     "metadata": {},
     "output_type": "execute_result"
    }
   ],
   "source": [
    "df2.columns = ['행정구역','신혼수_21','신혼증감_21','신혼증감률_21']\n",
    "df2.columns"
   ]
  },
  {
   "cell_type": "code",
   "execution_count": 12,
   "metadata": {},
   "outputs": [
    {
     "data": {
      "text/html": [
       "<div>\n",
       "<style scoped>\n",
       "    .dataframe tbody tr th:only-of-type {\n",
       "        vertical-align: middle;\n",
       "    }\n",
       "\n",
       "    .dataframe tbody tr th {\n",
       "        vertical-align: top;\n",
       "    }\n",
       "\n",
       "    .dataframe thead th {\n",
       "        text-align: right;\n",
       "    }\n",
       "</style>\n",
       "<table border=\"1\" class=\"dataframe\">\n",
       "  <thead>\n",
       "    <tr style=\"text-align: right;\">\n",
       "      <th></th>\n",
       "      <th>행정구역</th>\n",
       "      <th>신혼수_21</th>\n",
       "      <th>신혼증감_21</th>\n",
       "      <th>신혼증감률_21</th>\n",
       "    </tr>\n",
       "  </thead>\n",
       "  <tbody>\n",
       "    <tr>\n",
       "      <th>263</th>\n",
       "      <td>경상남도 성산구</td>\n",
       "      <td>4283</td>\n",
       "      <td>324</td>\n",
       "      <td>8.2</td>\n",
       "    </tr>\n",
       "    <tr>\n",
       "      <th>264</th>\n",
       "      <td>경상남도 마산합포구</td>\n",
       "      <td>2792</td>\n",
       "      <td>208</td>\n",
       "      <td>8.0</td>\n",
       "    </tr>\n",
       "    <tr>\n",
       "      <th>117</th>\n",
       "      <td>경기도 하남시</td>\n",
       "      <td>7821</td>\n",
       "      <td>500</td>\n",
       "      <td>6.8</td>\n",
       "    </tr>\n",
       "    <tr>\n",
       "      <th>101</th>\n",
       "      <td>경기도 평택시</td>\n",
       "      <td>12743</td>\n",
       "      <td>645</td>\n",
       "      <td>5.3</td>\n",
       "    </tr>\n",
       "    <tr>\n",
       "      <th>56</th>\n",
       "      <td>인천광역시 동구</td>\n",
       "      <td>732</td>\n",
       "      <td>27</td>\n",
       "      <td>3.8</td>\n",
       "    </tr>\n",
       "  </tbody>\n",
       "</table>\n",
       "</div>"
      ],
      "text/plain": [
       "           행정구역 신혼수_21 신혼증감_21 신혼증감률_21\n",
       "263    경상남도 성산구   4283     324      8.2\n",
       "264  경상남도 마산합포구   2792     208      8.0\n",
       "117     경기도 하남시   7821     500      6.8\n",
       "101     경기도 평택시  12743     645      5.3\n",
       "56     인천광역시 동구    732      27      3.8"
      ]
     },
     "execution_count": 12,
     "metadata": {},
     "output_type": "execute_result"
    }
   ],
   "source": [
    "# 증감이 +인 곳이 있는가? 확인\n",
    "df2.sort_values(by='신혼증감률_21', ascending=False).head()"
   ]
  },
  {
   "cell_type": "code",
   "execution_count": 13,
   "metadata": {},
   "outputs": [
    {
     "data": {
      "text/plain": [
       "0"
      ]
     },
     "execution_count": 13,
     "metadata": {},
     "output_type": "execute_result"
    }
   ],
   "source": [
    "df2.isna().sum().sum()"
   ]
  },
  {
   "cell_type": "code",
   "execution_count": 30,
   "metadata": {},
   "outputs": [],
   "source": [
    "######## 저장\n",
    "df2.to_csv('data/tmp/신혼부부_0629.csv', index=False)"
   ]
  },
  {
   "cell_type": "code",
   "execution_count": 2,
   "metadata": {},
   "outputs": [
    {
     "data": {
      "text/html": [
       "<div>\n",
       "<style scoped>\n",
       "    .dataframe tbody tr th:only-of-type {\n",
       "        vertical-align: middle;\n",
       "    }\n",
       "\n",
       "    .dataframe tbody tr th {\n",
       "        vertical-align: top;\n",
       "    }\n",
       "\n",
       "    .dataframe thead th {\n",
       "        text-align: right;\n",
       "    }\n",
       "</style>\n",
       "<table border=\"1\" class=\"dataframe\">\n",
       "  <thead>\n",
       "    <tr style=\"text-align: right;\">\n",
       "      <th></th>\n",
       "      <th>행정구역</th>\n",
       "      <th>신혼수_21</th>\n",
       "      <th>신혼증감_21</th>\n",
       "      <th>신혼증감률_21</th>\n",
       "    </tr>\n",
       "  </thead>\n",
       "  <tbody>\n",
       "    <tr>\n",
       "      <th>0</th>\n",
       "      <td>전국 소계</td>\n",
       "      <td>871428</td>\n",
       "      <td>-66652</td>\n",
       "      <td>-7.1</td>\n",
       "    </tr>\n",
       "    <tr>\n",
       "      <th>1</th>\n",
       "      <td>서울특별시 소계</td>\n",
       "      <td>172850</td>\n",
       "      <td>-15940</td>\n",
       "      <td>-8.4</td>\n",
       "    </tr>\n",
       "    <tr>\n",
       "      <th>2</th>\n",
       "      <td>서울특별시 종로구</td>\n",
       "      <td>1851</td>\n",
       "      <td>-238</td>\n",
       "      <td>-11.4</td>\n",
       "    </tr>\n",
       "  </tbody>\n",
       "</table>\n",
       "</div>"
      ],
      "text/plain": [
       "        행정구역  신혼수_21  신혼증감_21  신혼증감률_21\n",
       "0      전국 소계  871428   -66652      -7.1\n",
       "1   서울특별시 소계  172850   -15940      -8.4\n",
       "2  서울특별시 종로구    1851     -238     -11.4"
      ]
     },
     "execution_count": 2,
     "metadata": {},
     "output_type": "execute_result"
    }
   ],
   "source": [
    "####### 새로 불러와서 작업\n",
    "df= pd.read_csv('data/tmp/신혼부부_0629.csv', encoding='utf-8',sep=',')\n",
    "df.head(3)"
   ]
  },
  {
   "cell_type": "code",
   "execution_count": 3,
   "metadata": {},
   "outputs": [
    {
     "data": {
      "text/plain": [
       "(str, numpy.int64, numpy.int64, numpy.float64)"
      ]
     },
     "execution_count": 3,
     "metadata": {},
     "output_type": "execute_result"
    }
   ],
   "source": [
    "####### 데이터 타입 확인\n",
    "# 정리되어있음\n",
    "type(df['행정구역'][0]), type(df['신혼수_21'][0]), type(df['신혼증감_21'][0]), type(df['신혼증감률_21'][0])"
   ]
  },
  {
   "cell_type": "code",
   "execution_count": 4,
   "metadata": {},
   "outputs": [],
   "source": [
    "df.행정구역 = df['행정구역'].str.split()"
   ]
  },
  {
   "cell_type": "code",
   "execution_count": 5,
   "metadata": {},
   "outputs": [
    {
     "data": {
      "text/plain": [
       "0             [전국, 소계]\n",
       "1          [서울특별시, 소계]\n",
       "2         [서울특별시, 종로구]\n",
       "3          [서울특별시, 중구]\n",
       "4         [서울특별시, 용산구]\n",
       "            ...       \n",
       "274        [경상남도, 거창군]\n",
       "275        [경상남도, 합천군]\n",
       "276      [제주특별자치도, 소계]\n",
       "277     [제주특별자치도, 제주시]\n",
       "278    [제주특별자치도, 서귀포시]\n",
       "Name: 행정구역, Length: 279, dtype: object"
      ]
     },
     "execution_count": 5,
     "metadata": {},
     "output_type": "execute_result"
    }
   ],
   "source": [
    "df.행정구역"
   ]
  },
  {
   "cell_type": "code",
   "execution_count": 11,
   "metadata": {},
   "outputs": [
    {
     "data": {
      "text/plain": [
       "['대구광역시', '수성구']"
      ]
     },
     "execution_count": 11,
     "metadata": {},
     "output_type": "execute_result"
    }
   ],
   "source": [
    "df.행정구역[50][:]"
   ]
  },
  {
   "cell_type": "code",
   "execution_count": 13,
   "metadata": {},
   "outputs": [
    {
     "data": {
      "text/plain": [
       "['전국']"
      ]
     },
     "execution_count": 13,
     "metadata": {},
     "output_type": "execute_result"
    }
   ],
   "source": [
    "df.행정구역[0][:-1]"
   ]
  },
  {
   "cell_type": "code",
   "execution_count": 27,
   "metadata": {},
   "outputs": [
    {
     "data": {
      "text/plain": [
       "['전국', '서울특별시', '서울특별시 종로구', '서울특별시 중구']"
      ]
     },
     "execution_count": 27,
     "metadata": {},
     "output_type": "execute_result"
    }
   ],
   "source": [
    "####### 행정구역 value 수정-> ~ '소계' 삭제\n",
    "\n",
    "# 공백 기준 리스트로 만들기 -> [-1]이 \"소계\"이면 삭제\n",
    "dist_list=[]\n",
    "for i in range(len(df.index)):\n",
    "    dist = df.행정구역\n",
    "    if dist[i][-1] == '소계':\n",
    "        dist_list.append(' '.join(dist[i][:-1]))    # str형태로 다시 바꿔서 집어넣기\n",
    "    else:\n",
    "        dist_list.append(' '.join(dist[i]))\n",
    "dist_list[:4]"
   ]
  },
  {
   "cell_type": "code",
   "execution_count": 28,
   "metadata": {},
   "outputs": [
    {
     "data": {
      "text/plain": [
       "0                전국\n",
       "1             서울특별시\n",
       "2         서울특별시 종로구\n",
       "3          서울특별시 중구\n",
       "4         서울특별시 용산구\n",
       "           ...     \n",
       "274        경상남도 거창군\n",
       "275        경상남도 합천군\n",
       "276         제주특별자치도\n",
       "277     제주특별자치도 제주시\n",
       "278    제주특별자치도 서귀포시\n",
       "Name: 행정구역, Length: 279, dtype: object"
      ]
     },
     "execution_count": 28,
     "metadata": {},
     "output_type": "execute_result"
    }
   ],
   "source": [
    "df.행정구역 = dist_list\n",
    "df.행정구역"
   ]
  },
  {
   "cell_type": "code",
   "execution_count": 29,
   "metadata": {},
   "outputs": [
    {
     "data": {
      "text/plain": [
       "0"
      ]
     },
     "execution_count": 29,
     "metadata": {},
     "output_type": "execute_result"
    }
   ],
   "source": [
    "df.isna().sum().sum()"
   ]
  },
  {
   "cell_type": "code",
   "execution_count": 31,
   "metadata": {},
   "outputs": [
    {
     "data": {
      "text/html": [
       "<div>\n",
       "<style scoped>\n",
       "    .dataframe tbody tr th:only-of-type {\n",
       "        vertical-align: middle;\n",
       "    }\n",
       "\n",
       "    .dataframe tbody tr th {\n",
       "        vertical-align: top;\n",
       "    }\n",
       "\n",
       "    .dataframe thead th {\n",
       "        text-align: right;\n",
       "    }\n",
       "</style>\n",
       "<table border=\"1\" class=\"dataframe\">\n",
       "  <thead>\n",
       "    <tr style=\"text-align: right;\">\n",
       "      <th></th>\n",
       "      <th>행정구역</th>\n",
       "      <th>신혼수_21</th>\n",
       "      <th>신혼증감_21</th>\n",
       "      <th>신혼증감률_21</th>\n",
       "    </tr>\n",
       "  </thead>\n",
       "  <tbody>\n",
       "    <tr>\n",
       "      <th>0</th>\n",
       "      <td>전국</td>\n",
       "      <td>871428</td>\n",
       "      <td>-66652</td>\n",
       "      <td>-7.1</td>\n",
       "    </tr>\n",
       "    <tr>\n",
       "      <th>1</th>\n",
       "      <td>서울특별시</td>\n",
       "      <td>172850</td>\n",
       "      <td>-15940</td>\n",
       "      <td>-8.4</td>\n",
       "    </tr>\n",
       "    <tr>\n",
       "      <th>2</th>\n",
       "      <td>서울특별시 종로구</td>\n",
       "      <td>1851</td>\n",
       "      <td>-238</td>\n",
       "      <td>-11.4</td>\n",
       "    </tr>\n",
       "    <tr>\n",
       "      <th>3</th>\n",
       "      <td>서울특별시 중구</td>\n",
       "      <td>2421</td>\n",
       "      <td>-277</td>\n",
       "      <td>-10.3</td>\n",
       "    </tr>\n",
       "    <tr>\n",
       "      <th>4</th>\n",
       "      <td>서울특별시 용산구</td>\n",
       "      <td>4622</td>\n",
       "      <td>-140</td>\n",
       "      <td>-2.9</td>\n",
       "    </tr>\n",
       "  </tbody>\n",
       "</table>\n",
       "</div>"
      ],
      "text/plain": [
       "        행정구역  신혼수_21  신혼증감_21  신혼증감률_21\n",
       "0         전국  871428   -66652      -7.1\n",
       "1      서울특별시  172850   -15940      -8.4\n",
       "2  서울특별시 종로구    1851     -238     -11.4\n",
       "3   서울특별시 중구    2421     -277     -10.3\n",
       "4  서울특별시 용산구    4622     -140      -2.9"
      ]
     },
     "execution_count": 31,
     "metadata": {},
     "output_type": "execute_result"
    }
   ],
   "source": [
    "df.to_csv('data/신혼부부.csv', index=False)\n",
    "df.head()"
   ]
  }
 ],
 "metadata": {
  "kernelspec": {
   "display_name": "base",
   "language": "python",
   "name": "python3"
  },
  "language_info": {
   "codemirror_mode": {
    "name": "ipython",
    "version": 3
   },
   "file_extension": ".py",
   "mimetype": "text/x-python",
   "name": "python",
   "nbconvert_exporter": "python",
   "pygments_lexer": "ipython3",
   "version": "3.10.10"
  },
  "orig_nbformat": 4
 },
 "nbformat": 4,
 "nbformat_minor": 2
}
