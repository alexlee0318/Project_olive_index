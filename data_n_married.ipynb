{
 "cells": [
  {
   "cell_type": "code",
   "execution_count": null,
   "metadata": {},
   "outputs": [],
   "source": [
    "#########################################\n"
   ]
  },
  {
   "cell_type": "code",
   "execution_count": 1,
   "metadata": {},
   "outputs": [],
   "source": [
    "import pandas as pd\n",
    "import numpy as np\n",
    "import platform\n",
    "import matplotlib.pyplot as plt\n",
    "\n",
    "%matplotlib inline"
   ]
  },
  {
   "cell_type": "code",
   "execution_count": 3,
   "metadata": {},
   "outputs": [
    {
     "data": {
      "text/html": [
       "<div>\n",
       "<style scoped>\n",
       "    .dataframe tbody tr th:only-of-type {\n",
       "        vertical-align: middle;\n",
       "    }\n",
       "\n",
       "    .dataframe tbody tr th {\n",
       "        vertical-align: top;\n",
       "    }\n",
       "\n",
       "    .dataframe thead th {\n",
       "        text-align: right;\n",
       "    }\n",
       "</style>\n",
       "<table border=\"1\" class=\"dataframe\">\n",
       "  <thead>\n",
       "    <tr style=\"text-align: right;\">\n",
       "      <th></th>\n",
       "      <th>행정구역별(1)</th>\n",
       "      <th>행정구역별(2)</th>\n",
       "      <th>2017</th>\n",
       "      <th>2017.1</th>\n",
       "      <th>2017.2</th>\n",
       "      <th>2018</th>\n",
       "      <th>2018.1</th>\n",
       "      <th>2018.2</th>\n",
       "      <th>2019</th>\n",
       "      <th>2019.1</th>\n",
       "      <th>2019.2</th>\n",
       "      <th>2020</th>\n",
       "      <th>2020.1</th>\n",
       "      <th>2020.2</th>\n",
       "      <th>2021</th>\n",
       "      <th>2021.1</th>\n",
       "      <th>2021.2</th>\n",
       "    </tr>\n",
       "  </thead>\n",
       "  <tbody>\n",
       "    <tr>\n",
       "      <th>278</th>\n",
       "      <td>제주특별자치도</td>\n",
       "      <td>제주시</td>\n",
       "      <td>10383</td>\n",
       "      <td>-172</td>\n",
       "      <td>-1.6</td>\n",
       "      <td>10125</td>\n",
       "      <td>-258</td>\n",
       "      <td>-2.5</td>\n",
       "      <td>9635</td>\n",
       "      <td>-490</td>\n",
       "      <td>-4.8</td>\n",
       "      <td>9260</td>\n",
       "      <td>-375</td>\n",
       "      <td>-3.9</td>\n",
       "      <td>8648</td>\n",
       "      <td>-612</td>\n",
       "      <td>-6.6</td>\n",
       "    </tr>\n",
       "    <tr>\n",
       "      <th>279</th>\n",
       "      <td>제주특별자치도</td>\n",
       "      <td>서귀포시</td>\n",
       "      <td>3170</td>\n",
       "      <td>162</td>\n",
       "      <td>5.4</td>\n",
       "      <td>3156</td>\n",
       "      <td>-14</td>\n",
       "      <td>-0.4</td>\n",
       "      <td>3021</td>\n",
       "      <td>-135</td>\n",
       "      <td>-4.3</td>\n",
       "      <td>2777</td>\n",
       "      <td>-244</td>\n",
       "      <td>-8.1</td>\n",
       "      <td>2608</td>\n",
       "      <td>-169</td>\n",
       "      <td>-6.1</td>\n",
       "    </tr>\n",
       "  </tbody>\n",
       "</table>\n",
       "</div>"
      ],
      "text/plain": [
       "    행정구역별(1) 행정구역별(2)   2017 2017.1 2017.2   2018 2018.1 2018.2  2019 2019.1   \n",
       "278  제주특별자치도      제주시  10383   -172   -1.6  10125   -258   -2.5  9635   -490  \\\n",
       "279  제주특별자치도     서귀포시   3170    162    5.4   3156    -14   -0.4  3021   -135   \n",
       "\n",
       "    2019.2  2020 2020.1 2020.2  2021 2021.1 2021.2  \n",
       "278   -4.8  9260   -375   -3.9  8648   -612   -6.6  \n",
       "279   -4.3  2777   -244   -8.1  2608   -169   -6.1  "
      ]
     },
     "execution_count": 3,
     "metadata": {},
     "output_type": "execute_result"
    }
   ],
   "source": [
    "# 신혼부부 수\n",
    "df_n_married = pd.read_csv('data/origin/시군구별_초혼_신혼부부_수_20230623151753_분석(전년_대비_증감,증감률).csv', encoding='euc-kr', sep=',')\n",
    "df_n_married.head(1283).tail(2)"
   ]
  },
  {
   "cell_type": "code",
   "execution_count": 4,
   "metadata": {},
   "outputs": [
    {
     "data": {
      "text/plain": [
       "Index(['행정구역별(1)', '행정구역별(2)', '2017', '2017.1', '2017.2', '2018', '2018.1',\n",
       "       '2018.2', '2019', '2019.1', '2019.2', '2020', '2020.1', '2020.2',\n",
       "       '2021', '2021.1', '2021.2'],\n",
       "      dtype='object')"
      ]
     },
     "execution_count": 4,
     "metadata": {},
     "output_type": "execute_result"
    }
   ],
   "source": [
    "cols = df_n_married.columns\n",
    "cols"
   ]
  },
  {
   "cell_type": "code",
   "execution_count": 5,
   "metadata": {},
   "outputs": [
    {
     "data": {
      "text/plain": [
       "(17, '.2', '2')"
      ]
     },
     "execution_count": 5,
     "metadata": {},
     "output_type": "execute_result"
    }
   ],
   "source": [
    "len(cols), cols[4][-2:], cols[4][0]"
   ]
  },
  {
   "cell_type": "code",
   "execution_count": 14,
   "metadata": {},
   "outputs": [],
   "source": [
    "cols = df_n_married.columns\n",
    "col_list = []\n",
    "for i in range(2, int(len(cols))): # 행정구역 행 제외\n",
    "    if (str(cols[i][-2]) == '.' and str(cols[i][-1] == '2')):\n",
    "        col_list.append(f'{cols[i][2:4]}신혼증감률')\n",
    "    elif (str(cols[i][-2]) == '.' and str(cols[i][-1] == '1')):\n",
    "        df_n_married.drop(labels=cols[i], inplace=True, axis=1)\n",
    "    else:\n",
    "        col_list.append(f'{cols[i][2:4]}신혼부부수')"
   ]
  },
  {
   "cell_type": "code",
   "execution_count": 15,
   "metadata": {},
   "outputs": [
    {
     "data": {
      "text/plain": [
       "['17신혼부부수',\n",
       " '17신혼증감률',\n",
       " '17신혼증감률',\n",
       " '18신혼부부수',\n",
       " '18신혼증감률',\n",
       " '18신혼증감률',\n",
       " '19신혼부부수',\n",
       " '19신혼증감률',\n",
       " '19신혼증감률',\n",
       " '20신혼부부수',\n",
       " '20신혼증감률',\n",
       " '20신혼증감률',\n",
       " '21신혼부부수',\n",
       " '21신혼증감률',\n",
       " '21신혼증감률']"
      ]
     },
     "execution_count": 15,
     "metadata": {},
     "output_type": "execute_result"
    }
   ],
   "source": [
    "col_list"
   ]
  },
  {
   "cell_type": "code",
   "execution_count": 18,
   "metadata": {},
   "outputs": [
    {
     "data": {
      "text/plain": [
       "((280, 17), 0)"
      ]
     },
     "execution_count": 18,
     "metadata": {},
     "output_type": "execute_result"
    }
   ],
   "source": [
    "df_n_married.shape, df_n_married.isna().sum().sum()"
   ]
  },
  {
   "cell_type": "code",
   "execution_count": null,
   "metadata": {},
   "outputs": [],
   "source": [
    "# df_newly_married.drop(df_newly_married['행정구역별(2)'] == '소계')"
   ]
  }
 ],
 "metadata": {
  "kernelspec": {
   "display_name": "base",
   "language": "python",
   "name": "python3"
  },
  "language_info": {
   "codemirror_mode": {
    "name": "ipython",
    "version": 3
   },
   "file_extension": ".py",
   "mimetype": "text/x-python",
   "name": "python",
   "nbconvert_exporter": "python",
   "pygments_lexer": "ipython3",
   "version": "3.10.10"
  },
  "orig_nbformat": 4
 },
 "nbformat": 4,
 "nbformat_minor": 2
}
